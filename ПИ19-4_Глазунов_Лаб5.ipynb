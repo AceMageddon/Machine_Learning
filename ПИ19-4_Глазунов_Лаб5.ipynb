{
 "cells": [
  {
   "cell_type": "markdown",
   "metadata": {
    "pycharm": {
     "name": "#%% md\n"
    }
   },
   "source": [
    "# 5. Классификация текстов при помощи сетей прямого распространения\n",
    "\n",
    "__Автор__: Никита Владимирович Блохин (NVBlokhin@fa.ru)\n",
    "\n",
    "Финансовый университет, 2020 г."
   ]
  },
  {
   "cell_type": "code",
   "execution_count": 61,
   "metadata": {
    "pycharm": {
     "name": "#%%\n"
    }
   },
   "outputs": [],
   "source": [
    "import re\n",
    "import string\n",
    "import typing as t\n",
    "from pathlib import Path\n",
    "import matplotlib.pyplot as plt\n",
    "import nltk\n",
    "import pandas as pd\n",
    "import seaborn as sns\n",
    "import torch\n",
    "import torch.nn as nn\n",
    "import torch.nn.functional as F\n",
    "import torch.optim as optim\n",
    "from nltk.corpus import stopwords, wordnet\n",
    "from sklearn.preprocessing import LabelEncoder\n",
    "from torch.utils.data import Dataset, random_split, DataLoader"
   ]
  },
  {
   "cell_type": "code",
   "execution_count": 62,
   "metadata": {
    "pycharm": {
     "name": "#%%\n"
    }
   },
   "outputs": [
    {
     "name": "stdout",
     "output_type": "stream",
     "text": [
      "Using CPU device\n"
     ]
    }
   ],
   "source": [
    "torch.set_warn_always(True)\n",
    "sns.set_theme()\n",
    "plt.rcParams[\"figure.figsize\"] = (8, 4)\n",
    "DATA_DIR = Path(\"data/\")\n",
    "DEVICE = \"cuda\" if torch.cuda.is_available() else \"cpu\"\n",
    "print(f\"Using {DEVICE.upper()} device\")"
   ]
  },
  {
   "cell_type": "code",
   "execution_count": 63,
   "outputs": [],
   "source": [
    "def on_cuda(device: str) -> bool:\n",
    "    return device == \"cuda\""
   ],
   "metadata": {
    "collapsed": false,
    "pycharm": {
     "name": "#%%\n"
    }
   }
  },
  {
   "cell_type": "code",
   "execution_count": 64,
   "outputs": [],
   "source": [
    "def common_train(\n",
    "        model: nn.Module,\n",
    "        loss_fn: nn.Module,\n",
    "        optimizer: optim.Optimizer,\n",
    "        train_dataloader: DataLoader,\n",
    "        epochs: int,\n",
    "        verbose: int = 100,\n",
    "        test_dataloader: DataLoader = None,\n",
    "        device: str = \"cpu\",\n",
    ") -> t.List[float]:\n",
    "    train_losses = []\n",
    "    for epoch in range(epochs):\n",
    "        print(f\"Epoch {epoch + 1}\\n\" + \"-\" * 32)\n",
    "        train_loss = train_loop(\n",
    "            train_dataloader,\n",
    "            model,\n",
    "            loss_fn,\n",
    "            optimizer,\n",
    "            verbose=verbose,\n",
    "            device=device,\n",
    "        )\n",
    "        train_losses.append(train_loss.item())\n",
    "        if test_dataloader:\n",
    "            test_loop(test_dataloader, model, loss_fn, device=device)\n",
    "        torch.cuda.empty_cache()\n",
    "    return train_losses\n"
   ],
   "metadata": {
    "collapsed": false,
    "pycharm": {
     "name": "#%%\n"
    }
   }
  },
  {
   "cell_type": "code",
   "execution_count": 65,
   "outputs": [],
   "source": [
    "def train_loop(\n",
    "        dataloader: DataLoader,\n",
    "        model: nn.Module,\n",
    "        loss_fn: nn.Module,\n",
    "        optimizer: optim.Optimizer,\n",
    "        verbose: int = 100,\n",
    "        device: str = \"cpu\",\n",
    ") -> torch.Tensor:\n",
    "    model.train()\n",
    "\n",
    "    size = len(dataloader.dataset)  # noqa\n",
    "    num_batches = len(dataloader)\n",
    "    avg_loss = 0\n",
    "\n",
    "    for batch, (x, y) in enumerate(dataloader):\n",
    "        x, y = x.to(device), y.to(device)\n",
    "\n",
    "        pred = model(x)\n",
    "        loss = loss_fn(pred, y)\n",
    "\n",
    "        optimizer.zero_grad()\n",
    "        loss.backward()\n",
    "        optimizer.step()\n",
    "\n",
    "        avg_loss += loss\n",
    "        if batch % verbose == 0:\n",
    "            print(f\"loss: {loss:>7f}  [{batch * len(x):>5d}/{size:>5d}]\")\n",
    "\n",
    "        del x, y, pred, loss\n",
    "        torch.cuda.empty_cache()\n",
    "\n",
    "    return avg_loss / num_batches"
   ],
   "metadata": {
    "collapsed": false,
    "pycharm": {
     "name": "#%%\n"
    }
   }
  },
  {
   "cell_type": "code",
   "execution_count": 66,
   "outputs": [],
   "source": [
    "def test_loop(\n",
    "        dataloader: DataLoader,\n",
    "        model: nn.Module,\n",
    "        loss_fn: nn.Module,\n",
    "        device: str = \"cpu\",\n",
    ") -> t.Tuple[torch.Tensor, torch.Tensor]:\n",
    "    model.eval()\n",
    "\n",
    "    size = len(dataloader.dataset)  # noqa\n",
    "    num_batches = len(dataloader)\n",
    "    avg_loss, correct = 0, 0\n",
    "\n",
    "    for x, y in dataloader:\n",
    "        x, y = x.to(device), y.to(device)\n",
    "        pred = model(x)\n",
    "        avg_loss += loss_fn(pred, y)\n",
    "        correct += (pred.argmax(1) == y).type(torch.float).sum().item()  # noqa\n",
    "\n",
    "        del x, y, pred\n",
    "        torch.cuda.empty_cache()\n",
    "\n",
    "    avg_loss /= num_batches\n",
    "    accuracy = correct / size\n",
    "    print(f\"Test Error: \\n Accuracy: {accuracy:>4f}, Avg loss: {avg_loss:>8f} \\n\")\n",
    "\n",
    "    return avg_loss, accuracy"
   ],
   "metadata": {
    "collapsed": false,
    "pycharm": {
     "name": "#%%\n"
    }
   }
  },
  {
   "cell_type": "code",
   "execution_count": 67,
   "outputs": [],
   "source": [
    "def plot_losses(losses: t.Any) -> None:\n",
    "    plt.plot(torch.arange(len(losses)), losses)"
   ],
   "metadata": {
    "collapsed": false,
    "pycharm": {
     "name": "#%%\n"
    }
   }
  },
  {
   "cell_type": "markdown",
   "metadata": {
    "id": "jqDHq_AEjRZ1",
    "pycharm": {
     "name": "#%% md\n"
    }
   },
   "source": [
    "## 1. Представление и предобработка текстовых данных "
   ]
  },
  {
   "cell_type": "markdown",
   "metadata": {
    "id": "vaki7efDpmXo",
    "pycharm": {
     "name": "#%% md\n"
    }
   },
   "source": [
    "1.1 Операции по предобработке:\n",
    "* токенизация\n",
    "* стемминг / лемматизация\n",
    "* удаление стоп-слов\n",
    "* удаление пунктуации\n",
    "* приведение к нижнему регистру\n",
    "* любые другие операции над текстом"
   ]
  },
  {
   "cell_type": "code",
   "execution_count": 68,
   "metadata": {
    "pycharm": {
     "name": "#%%\n"
    }
   },
   "outputs": [],
   "source": [
    "text = 'Select your preferences and run the install command. Stable represents the most currently tested and supported version of PyTorch. Note that LibTorch is only available for C++'"
   ]
  },
  {
   "cell_type": "markdown",
   "metadata": {
    "pycharm": {
     "name": "#%% md\n"
    }
   },
   "source": [
    "Реализовать функцию `preprocess_text(text: str) -> str`, которая:\n",
    "* приводит строку к нижнему регистру\n",
    "* заменяет все символы, кроме a-z, A-Z и знаков .,!? на пробел\n"
   ]
  },
  {
   "cell_type": "code",
   "execution_count": 69,
   "metadata": {
    "pycharm": {
     "name": "#%%\n"
    }
   },
   "outputs": [],
   "source": [
    "def get_pos(word: str) -> str:\n",
    "    tag = nltk.pos_tag([word])[0][1]\n",
    "    if tag.startswith('J'):\n",
    "        return wordnet.ADJ\n",
    "    elif tag.startswith('V'):\n",
    "        return wordnet.VERB\n",
    "    elif tag.startswith('R'):\n",
    "        return wordnet.ADV\n",
    "    else:\n",
    "        return wordnet.NOUN"
   ]
  },
  {
   "cell_type": "code",
   "execution_count": 70,
   "outputs": [
    {
     "data": {
      "text/plain": "'select preference run install command. stable represent currently test support version pytorch. note libtorch available c'"
     },
     "execution_count": 70,
     "metadata": {},
     "output_type": "execute_result"
    }
   ],
   "source": [
    "def preprocess_text(text: str) -> str:\n",
    "    text = text.lower()\n",
    "    text = re.sub(r\"[^a-z.!?]\", repl=\" \", string=text, flags=re.MULTILINE)\n",
    "    punctuation = set(string.punctuation)\n",
    "    stop_words = set(stopwords.words(\"english\"))\n",
    "    lemmatizer = nltk.WordNetLemmatizer()\n",
    "    sentences = []\n",
    "    for sent in nltk.sent_tokenize(text):\n",
    "        words = []\n",
    "        for word in nltk.word_tokenize(sent):\n",
    "            # отбросить некоторые слова до лемматизации - чуть-чуть сэкономит время\n",
    "            if word not in stop_words and word not in punctuation:\n",
    "                lemma = lemmatizer.lemmatize(word, pos=get_pos(word))\n",
    "                if lemma not in stop_words:\n",
    "                    words.append(lemma)\n",
    "        sentences.append(\" \".join(words))\n",
    "    text = \". \".join(sentences)\n",
    "    text = re.sub(r\"[!?]\", repl=\".\", string=text, flags=re.MULTILINE)\n",
    "    return text\n",
    "preprocess_text(text)"
   ],
   "metadata": {
    "collapsed": false,
    "pycharm": {
     "name": "#%%\n"
    }
   }
  },
  {
   "cell_type": "markdown",
   "metadata": {
    "id": "Z2Dt1ssIqckC",
    "pycharm": {
     "name": "#%% md\n"
    }
   },
   "source": [
    "1.2 Представление текстовых данных при помощи бинарного кодирования\n",
    "\n",
    "\n",
    "Представить первое предложение из `text` в виде тензора `sentence_t`: `sentence_t[i] == 1`, если __слово__ с индексом `i` присутствует в предложении."
   ]
  },
  {
   "cell_type": "code",
   "execution_count": 71,
   "metadata": {
    "pycharm": {
     "name": "#%%\n"
    }
   },
   "outputs": [
    {
     "data": {
      "text/plain": "tensor([0., 0., 1., 0., 1., 1., 1., 0., 0., 0., 1., 0., 0., 0., 0., 0.])"
     },
     "execution_count": 71,
     "metadata": {},
     "output_type": "execute_result"
    }
   ],
   "source": [
    "text_ = preprocess_text(text)\n",
    "alphabet = list(set(nltk.word_tokenize(text_)) - {\".\"})\n",
    "word_to_idx = {word: i for i, word in enumerate(alphabet)}\n",
    "sentence = nltk.sent_tokenize(text_)[0]\n",
    "sentence = sentence[:-1] if sentence[-1] == '.' else sentence\n",
    "sentence_t = torch.zeros(len(alphabet))\n",
    "word_indices = [word_to_idx[w] for w in nltk.word_tokenize(sentence)]\n",
    "sentence_t[word_indices] = 1\n",
    "sentence_t"
   ]
  },
  {
   "cell_type": "markdown",
   "metadata": {
    "id": "P2Nz_zcgw3N4",
    "pycharm": {
     "name": "#%% md\n"
    }
   },
   "source": [
    "## 2. Классификация фамилий по национальности\n",
    "\n",
    "Датасет: https://disk.yandex.ru/d/owHew8hzPc7X9Q?w=1"
   ]
  },
  {
   "cell_type": "markdown",
   "metadata": {
    "pycharm": {
     "name": "#%% md\n"
    }
   },
   "source": [
    "2.1 Считать файл `surnames/surnames.csv`."
   ]
  },
  {
   "cell_type": "code",
   "execution_count": 72,
   "metadata": {
    "pycharm": {
     "name": "#%%\n"
    }
   },
   "outputs": [
    {
     "data": {
      "text/plain": "    surname nationality\n0  Woodford     English\n1      Coté      French\n2      Kore     English\n3     Koury      Arabic\n4    Lebzak     Russian",
      "text/html": "<div>\n<style scoped>\n    .dataframe tbody tr th:only-of-type {\n        vertical-align: middle;\n    }\n\n    .dataframe tbody tr th {\n        vertical-align: top;\n    }\n\n    .dataframe thead th {\n        text-align: right;\n    }\n</style>\n<table border=\"1\" class=\"dataframe\">\n  <thead>\n    <tr style=\"text-align: right;\">\n      <th></th>\n      <th>surname</th>\n      <th>nationality</th>\n    </tr>\n  </thead>\n  <tbody>\n    <tr>\n      <th>0</th>\n      <td>Woodford</td>\n      <td>English</td>\n    </tr>\n    <tr>\n      <th>1</th>\n      <td>Coté</td>\n      <td>French</td>\n    </tr>\n    <tr>\n      <th>2</th>\n      <td>Kore</td>\n      <td>English</td>\n    </tr>\n    <tr>\n      <th>3</th>\n      <td>Koury</td>\n      <td>Arabic</td>\n    </tr>\n    <tr>\n      <th>4</th>\n      <td>Lebzak</td>\n      <td>Russian</td>\n    </tr>\n  </tbody>\n</table>\n</div>"
     },
     "execution_count": 72,
     "metadata": {},
     "output_type": "execute_result"
    }
   ],
   "source": [
    "surnames = pd.read_csv(\"surnames.csv\")\n",
    "surnames.head()"
   ]
  },
  {
   "cell_type": "markdown",
   "metadata": {
    "pycharm": {
     "name": "#%% md\n"
    }
   },
   "source": [
    "2.2 Закодировать национальности числами, начиная с 0."
   ]
  },
  {
   "cell_type": "code",
   "execution_count": 73,
   "metadata": {
    "pycharm": {
     "name": "#%%\n"
    }
   },
   "outputs": [
    {
     "name": "stdout",
     "output_type": "stream",
     "text": [
      "classes: 18\n"
     ]
    },
    {
     "data": {
      "text/plain": "    surname nationality  target\n0  Woodford     English       4\n1      Coté      French       5\n2      Kore     English       4\n3     Koury      Arabic       0\n4    Lebzak     Russian      14",
      "text/html": "<div>\n<style scoped>\n    .dataframe tbody tr th:only-of-type {\n        vertical-align: middle;\n    }\n\n    .dataframe tbody tr th {\n        vertical-align: top;\n    }\n\n    .dataframe thead th {\n        text-align: right;\n    }\n</style>\n<table border=\"1\" class=\"dataframe\">\n  <thead>\n    <tr style=\"text-align: right;\">\n      <th></th>\n      <th>surname</th>\n      <th>nationality</th>\n      <th>target</th>\n    </tr>\n  </thead>\n  <tbody>\n    <tr>\n      <th>0</th>\n      <td>Woodford</td>\n      <td>English</td>\n      <td>4</td>\n    </tr>\n    <tr>\n      <th>1</th>\n      <td>Coté</td>\n      <td>French</td>\n      <td>5</td>\n    </tr>\n    <tr>\n      <th>2</th>\n      <td>Kore</td>\n      <td>English</td>\n      <td>4</td>\n    </tr>\n    <tr>\n      <th>3</th>\n      <td>Koury</td>\n      <td>Arabic</td>\n      <td>0</td>\n    </tr>\n    <tr>\n      <th>4</th>\n      <td>Lebzak</td>\n      <td>Russian</td>\n      <td>14</td>\n    </tr>\n  </tbody>\n</table>\n</div>"
     },
     "execution_count": 73,
     "metadata": {},
     "output_type": "execute_result"
    }
   ],
   "source": [
    "labeler = LabelEncoder()\n",
    "surnames[\"target\"] = labeler.fit_transform(surnames[\"nationality\"])\n",
    "print(f\"classes: {len(labeler.classes_)}\")\n",
    "surnames.head()"
   ]
  },
  {
   "cell_type": "markdown",
   "metadata": {
    "pycharm": {
     "name": "#%% md\n"
    }
   },
   "source": [
    "2.4 Реализовать класс `Vocab` (токен = __символ__)"
   ]
  },
  {
   "cell_type": "code",
   "execution_count": 74,
   "metadata": {
    "id": "kUkSZkDqxNYS",
    "pycharm": {
     "name": "#%%\n"
    }
   },
   "outputs": [
    {
     "data": {
      "text/plain": "55"
     },
     "execution_count": 74,
     "metadata": {},
     "output_type": "execute_result"
    }
   ],
   "source": [
    "class Vocab:\n",
    "    def __init__(self, data: t.Iterable[str]):\n",
    "        self.idx_to_token = list({ch for w in data for ch in w.lower()})\n",
    "        self.token_to_idx = {t: i for i, t in enumerate(self.idx_to_token)}\n",
    "        self.vocab_len = len(self.idx_to_token)\n",
    "vocab = Vocab(surnames[\"surname\"])\n",
    "vocab.vocab_len"
   ]
  },
  {
   "cell_type": "markdown",
   "metadata": {
    "pycharm": {
     "name": "#%% md\n"
    }
   },
   "source": [
    "2.5 Реализовать класс `SurnamesDataset`"
   ]
  },
  {
   "cell_type": "code",
   "execution_count": 75,
   "metadata": {
    "colab": {
     "base_uri": "https://localhost:8080/",
     "height": 229
    },
    "executionInfo": {
     "elapsed": 1303,
     "status": "error",
     "timestamp": 1619117849212,
     "user": {
      "displayName": "Никита Блохин",
      "photoUrl": "",
      "userId": "16402972581398673009"
     },
     "user_tz": -180
    },
    "id": "WCaRK1QHxe0A",
    "outputId": "5d1243af-d0dd-4922-9468-9618f5df4605",
    "scrolled": true,
    "pycharm": {
     "name": "#%%\n"
    }
   },
   "outputs": [],
   "source": [
    "class SurnamesDataset(Dataset):\n",
    "    def __init__(self, data: t.List[str], targets: torch.Tensor, vocab: Vocab):\n",
    "        self.data = data\n",
    "        self.targets = targets\n",
    "        self.vocab = vocab\n",
    "\n",
    "    def vectorize(self, surname: str) -> torch.Tensor:\n",
    "        vec = torch.zeros(self.vocab.vocab_len)\n",
    "        indices = [self.vocab.token_to_idx[ch] for ch in surname.lower()]\n",
    "        vec[indices] = 1\n",
    "        return vec\n",
    "\n",
    "    def __len__(self):\n",
    "        return len(self.data)\n",
    "\n",
    "    def __getitem__(self, idx):\n",
    "        return self.vectorize(self.data[idx]), self.targets[idx]\n",
    "surnames_dataset = SurnamesDataset(\n",
    "    data=surnames[\"surname\"].tolist(),\n",
    "    targets=torch.tensor(surnames[\"target\"], dtype=torch.long),\n",
    "    vocab=vocab,\n",
    ")"
   ]
  },
  {
   "cell_type": "markdown",
   "metadata": {
    "pycharm": {
     "name": "#%% md\n"
    }
   },
   "source": [
    "2.3 Разбить датасет на обучающую и тестовую выборку"
   ]
  },
  {
   "cell_type": "code",
   "execution_count": 76,
   "metadata": {
    "pycharm": {
     "name": "#%%\n"
    }
   },
   "outputs": [
    {
     "data": {
      "text/plain": "(8784, 2196)"
     },
     "execution_count": 76,
     "metadata": {},
     "output_type": "execute_result"
    }
   ],
   "source": [
    "train_size = round(0.8 * len(surnames_dataset))\n",
    "test_size = len(surnames_dataset) - train_size\n",
    "train_dataset, test_dataset = random_split(surnames_dataset, lengths=(train_size, test_size))\n",
    "len(train_dataset), len(test_dataset)"
   ]
  },
  {
   "cell_type": "markdown",
   "metadata": {
    "pycharm": {
     "name": "#%% md\n"
    }
   },
   "source": [
    "2.6. Обучить классификатор."
   ]
  },
  {
   "cell_type": "code",
   "execution_count": 77,
   "metadata": {
    "pycharm": {
     "name": "#%%\n"
    }
   },
   "outputs": [],
   "source": [
    "class SurnamesClassifier(nn.Module):\n",
    "    def __init__(self, in_features, out_features):\n",
    "        super(SurnamesClassifier, self).__init__()\n",
    "        self.seq = nn.Sequential(  # простой классификатор\n",
    "            nn.Linear(in_features, 256),\n",
    "            nn.ReLU(),\n",
    "            nn.Linear(256, out_features),\n",
    "            # Интересно, почему в лекциях иногда используют CrossEntropyLoss, а иногда SoftMax + NLLLoss?\n",
    "            # Они же эквивалентны: https://pytorch.org/docs/stable/generated/torch.nn.CrossEntropyLoss.html\n",
    "            nn.LogSoftmax(dim=1),\n",
    "        )\n",
    "\n",
    "    def forward(self, inputs):\n",
    "        return self.seq(inputs)"
   ]
  },
  {
   "cell_type": "code",
   "execution_count": 78,
   "metadata": {
    "pycharm": {
     "name": "#%%\n"
    }
   },
   "outputs": [],
   "source": [
    "torch.manual_seed(0)\n",
    "net = SurnamesClassifier(vocab.vocab_len, vocab.vocab_len).to(DEVICE)\n",
    "loss_fn = nn.NLLLoss()\n",
    "optimizer = optim.Adam(net.parameters(), lr=0.001)\n",
    "train_dataloader = DataLoader(train_dataset, batch_size=8, shuffle=True)\n",
    "test_dataloader = DataLoader(test_dataset, batch_size=512)"
   ]
  },
  {
   "cell_type": "code",
   "execution_count": 79,
   "metadata": {
    "pycharm": {
     "name": "#%%\n"
    }
   },
   "outputs": [
    {
     "name": "stdout",
     "output_type": "stream",
     "text": [
      "Epoch 1\n",
      "--------------------------------\n",
      "loss: 4.041303  [    0/ 8784]\n",
      "loss: 1.495364  [ 2400/ 8784]\n",
      "loss: 2.547904  [ 4800/ 8784]\n",
      "loss: 0.755988  [ 7200/ 8784]\n",
      "Test Error: \n",
      " Accuracy: 0.508197, Avg loss: 1.516162 \n",
      "\n",
      "Epoch 2\n",
      "--------------------------------\n",
      "loss: 1.551797  [    0/ 8784]\n",
      "loss: 1.229257  [ 2400/ 8784]\n",
      "loss: 0.837363  [ 4800/ 8784]\n",
      "loss: 1.605946  [ 7200/ 8784]\n",
      "Test Error: \n",
      " Accuracy: 0.551457, Avg loss: 1.420111 \n",
      "\n",
      "Epoch 3\n",
      "--------------------------------\n",
      "loss: 2.207312  [    0/ 8784]\n",
      "loss: 1.377480  [ 2400/ 8784]\n",
      "loss: 1.709790  [ 4800/ 8784]\n",
      "loss: 1.480855  [ 7200/ 8784]\n",
      "Test Error: \n",
      " Accuracy: 0.582878, Avg loss: 1.370939 \n",
      "\n",
      "Epoch 4\n",
      "--------------------------------\n",
      "loss: 0.859607  [    0/ 8784]\n",
      "loss: 0.891102  [ 2400/ 8784]\n",
      "loss: 1.447222  [ 4800/ 8784]\n",
      "loss: 2.121900  [ 7200/ 8784]\n",
      "Test Error: \n",
      " Accuracy: 0.590164, Avg loss: 1.315199 \n",
      "\n",
      "Epoch 5\n",
      "--------------------------------\n",
      "loss: 1.068374  [    0/ 8784]\n",
      "loss: 0.754189  [ 2400/ 8784]\n",
      "loss: 1.762213  [ 4800/ 8784]\n",
      "loss: 1.213347  [ 7200/ 8784]\n",
      "Test Error: \n",
      " Accuracy: 0.613843, Avg loss: 1.268268 \n",
      "\n",
      "Epoch 6\n",
      "--------------------------------\n",
      "loss: 2.346363  [    0/ 8784]\n",
      "loss: 2.107426  [ 2400/ 8784]\n",
      "loss: 1.159393  [ 4800/ 8784]\n",
      "loss: 1.431487  [ 7200/ 8784]\n",
      "Test Error: \n",
      " Accuracy: 0.609290, Avg loss: 1.261787 \n",
      "\n",
      "Epoch 7\n",
      "--------------------------------\n",
      "loss: 0.989682  [    0/ 8784]\n",
      "loss: 0.911559  [ 2400/ 8784]\n",
      "loss: 2.266729  [ 4800/ 8784]\n",
      "loss: 1.633568  [ 7200/ 8784]\n",
      "Test Error: \n",
      " Accuracy: 0.624772, Avg loss: 1.227457 \n",
      "\n",
      "Epoch 8\n",
      "--------------------------------\n",
      "loss: 1.152451  [    0/ 8784]\n",
      "loss: 0.888170  [ 2400/ 8784]\n",
      "loss: 2.031139  [ 4800/ 8784]\n",
      "loss: 1.093117  [ 7200/ 8784]\n",
      "Test Error: \n",
      " Accuracy: 0.632514, Avg loss: 1.228147 \n",
      "\n",
      "Epoch 9\n",
      "--------------------------------\n",
      "loss: 1.830794  [    0/ 8784]\n",
      "loss: 1.219734  [ 2400/ 8784]\n",
      "loss: 1.511419  [ 4800/ 8784]\n",
      "loss: 1.166571  [ 7200/ 8784]\n",
      "Test Error: \n",
      " Accuracy: 0.622040, Avg loss: 1.211719 \n",
      "\n",
      "Epoch 10\n",
      "--------------------------------\n",
      "loss: 1.065255  [    0/ 8784]\n",
      "loss: 1.228761  [ 2400/ 8784]\n",
      "loss: 1.481205  [ 4800/ 8784]\n",
      "loss: 1.030509  [ 7200/ 8784]\n",
      "Test Error: \n",
      " Accuracy: 0.627960, Avg loss: 1.200017 \n",
      "\n",
      "Epoch 11\n",
      "--------------------------------\n",
      "loss: 1.545122  [    0/ 8784]\n",
      "loss: 0.976091  [ 2400/ 8784]\n",
      "loss: 0.928957  [ 4800/ 8784]\n",
      "loss: 0.402299  [ 7200/ 8784]\n",
      "Test Error: \n",
      " Accuracy: 0.630237, Avg loss: 1.195845 \n",
      "\n",
      "Epoch 12\n",
      "--------------------------------\n",
      "loss: 1.861076  [    0/ 8784]\n",
      "loss: 0.577928  [ 2400/ 8784]\n",
      "loss: 0.576478  [ 4800/ 8784]\n",
      "loss: 0.589800  [ 7200/ 8784]\n",
      "Test Error: \n",
      " Accuracy: 0.635246, Avg loss: 1.188076 \n",
      "\n",
      "Epoch 13\n",
      "--------------------------------\n",
      "loss: 1.272093  [    0/ 8784]\n",
      "loss: 0.986163  [ 2400/ 8784]\n",
      "loss: 1.152454  [ 4800/ 8784]\n",
      "loss: 1.159022  [ 7200/ 8784]\n",
      "Test Error: \n",
      " Accuracy: 0.636157, Avg loss: 1.178932 \n",
      "\n",
      "Epoch 14\n",
      "--------------------------------\n",
      "loss: 0.826404  [    0/ 8784]\n",
      "loss: 1.095854  [ 2400/ 8784]\n",
      "loss: 1.031597  [ 4800/ 8784]\n",
      "loss: 1.971646  [ 7200/ 8784]\n",
      "Test Error: \n",
      " Accuracy: 0.626138, Avg loss: 1.189525 \n",
      "\n",
      "Epoch 15\n",
      "--------------------------------\n",
      "loss: 0.730505  [    0/ 8784]\n",
      "loss: 1.051739  [ 2400/ 8784]\n",
      "loss: 0.569632  [ 4800/ 8784]\n",
      "loss: 0.446399  [ 7200/ 8784]\n",
      "Test Error: \n",
      " Accuracy: 0.635701, Avg loss: 1.198085 \n",
      "\n",
      "Epoch 16\n",
      "--------------------------------\n",
      "loss: 0.878573  [    0/ 8784]\n",
      "loss: 0.533379  [ 2400/ 8784]\n",
      "loss: 0.664059  [ 4800/ 8784]\n",
      "loss: 1.031152  [ 7200/ 8784]\n",
      "Test Error: \n",
      " Accuracy: 0.627960, Avg loss: 1.195765 \n",
      "\n",
      "Epoch 17\n",
      "--------------------------------\n",
      "loss: 1.494142  [    0/ 8784]\n",
      "loss: 0.698880  [ 2400/ 8784]\n",
      "loss: 0.686350  [ 4800/ 8784]\n",
      "loss: 0.957394  [ 7200/ 8784]\n",
      "Test Error: \n",
      " Accuracy: 0.635246, Avg loss: 1.192105 \n",
      "\n",
      "Epoch 18\n",
      "--------------------------------\n",
      "loss: 0.116779  [    0/ 8784]\n",
      "loss: 0.691539  [ 2400/ 8784]\n",
      "loss: 0.953469  [ 4800/ 8784]\n",
      "loss: 0.575769  [ 7200/ 8784]\n",
      "Test Error: \n",
      " Accuracy: 0.635246, Avg loss: 1.185336 \n",
      "\n",
      "Epoch 19\n",
      "--------------------------------\n",
      "loss: 0.604511  [    0/ 8784]\n",
      "loss: 0.571812  [ 2400/ 8784]\n",
      "loss: 1.301380  [ 4800/ 8784]\n",
      "loss: 0.776503  [ 7200/ 8784]\n",
      "Test Error: \n",
      " Accuracy: 0.631603, Avg loss: 1.180219 \n",
      "\n",
      "Epoch 20\n",
      "--------------------------------\n",
      "loss: 0.644510  [    0/ 8784]\n",
      "loss: 0.829108  [ 2400/ 8784]\n",
      "loss: 1.785221  [ 4800/ 8784]\n",
      "loss: 0.521356  [ 7200/ 8784]\n",
      "Test Error: \n",
      " Accuracy: 0.631148, Avg loss: 1.202913 \n",
      "\n"
     ]
    }
   ],
   "source": [
    "train_losses = common_train(\n",
    "    epochs=20,\n",
    "    model=net,\n",
    "    loss_fn=loss_fn,\n",
    "    optimizer=optimizer,\n",
    "    train_dataloader=train_dataloader,\n",
    "    test_dataloader=test_dataloader,\n",
    "    verbose=300,\n",
    "    device=DEVICE,\n",
    ")"
   ]
  },
  {
   "cell_type": "code",
   "execution_count": 80,
   "metadata": {
    "pycharm": {
     "name": "#%%\n"
    }
   },
   "outputs": [
    {
     "data": {
      "text/plain": "<Figure size 576x288 with 1 Axes>",
      "image/png": "[encoded data removed]"
     },
     "metadata": {},
     "output_type": "display_data"
    }
   ],
   "source": [
    "plot_losses(train_losses)"
   ]
  },
  {
   "cell_type": "markdown",
   "metadata": {
    "pycharm": {
     "name": "#%% md\n"
    }
   },
   "source": [
    "2.7 Измерить точность на тестовой выборке. Проверить работоспособность модели: прогнать несколько фамилий студентов группы через модели и проверить результат. Для каждой фамилии выводить 3 наиболее вероятных предсказания."
   ]
  },
  {
   "cell_type": "code",
   "execution_count": 81,
   "metadata": {
    "pycharm": {
     "name": "#%%\n"
    }
   },
   "outputs": [
    {
     "name": "stdout",
     "output_type": "stream",
     "text": [
      "Test Error: \n",
      " Accuracy: 0.631148, Avg loss: 1.202913 \n",
      "\n"
     ]
    }
   ],
   "source": [
    "test_loop(dataloader=test_dataloader, model=net, loss_fn=loss_fn, device=DEVICE);"
   ]
  },
  {
   "cell_type": "code",
   "execution_count": 82,
   "metadata": {
    "pycharm": {
     "name": "#%%\n"
    }
   },
   "outputs": [],
   "source": [
    "def inference(\n",
    "        surname: str,\n",
    "        target: str,\n",
    "        model: nn.Module,\n",
    "        dataset: SurnamesDataset,\n",
    "        labeler: LabelEncoder,\n",
    "        k: int = 3,\n",
    "        device: str = \"cpu\",\n",
    "):\n",
    "    x = dataset.vectorize(surname)\n",
    "    x = x.to(device)\n",
    "\n",
    "    pred = model(x.unsqueeze(0))\n",
    "    pred_proba, pred_label_indices = F.softmax(pred, 1).topk(k, dim=1)\n",
    "    pred_labels = labeler.inverse_transform(pred_label_indices.squeeze().cpu())\n",
    "\n",
    "    predicts = \", \".join(\n",
    "        [f\"{label} ({prob:.2f})\" for (label, prob) in zip(pred_labels, pred_proba.squeeze())]\n",
    "    )\n",
    "    print(f\"Surname : {surname}\")\n",
    "    print(f\"True    : {target}\")\n",
    "    print(f\"Predicts: {predicts}\\n\")"
   ]
  },
  {
   "cell_type": "code",
   "execution_count": 83,
   "metadata": {
    "pycharm": {
     "name": "#%%\n"
    }
   },
   "outputs": [
    {
     "name": "stdout",
     "output_type": "stream",
     "text": [
      "Surname : Alexandrova\n",
      "True    : Russian\n",
      "Predicts: English (0.88), French (0.06), Dutch (0.03)\n",
      "\n",
      "Surname : Baranov\n",
      "True    : Russian\n",
      "Predicts: Russian (0.48), Italian (0.30), Czech (0.07)\n",
      "\n",
      "Surname : Brusova\n",
      "True    : Russian\n",
      "Predicts: Russian (0.56), Czech (0.24), Greek (0.11)\n",
      "\n",
      "Surname : Volkova\n",
      "True    : Russian\n",
      "Predicts: Russian (0.64), Czech (0.32), English (0.01)\n",
      "\n",
      "Surname : Kovalev\n",
      "True    : Russian\n",
      "Predicts: Russian (0.74), Dutch (0.11), English (0.08)\n",
      "\n",
      "Surname : Kostyuchenko\n",
      "True    : Russian\n",
      "Predicts: Russian (0.91), English (0.06), Dutch (0.02)\n",
      "\n",
      "Surname : Kuzin\n",
      "True    : Russian\n",
      "Predicts: Russian (0.62), Japanese (0.22), Czech (0.06)\n",
      "\n",
      "Surname : Likhachev\n",
      "True    : Russian\n",
      "Predicts: Russian (0.88), Czech (0.07), English (0.05)\n",
      "\n",
      "Surname : Telitsyn\n",
      "True    : Russian\n",
      "Predicts: English (0.73), Russian (0.22), Dutch (0.01)\n",
      "\n",
      "Surname : Ustimova\n",
      "True    : Russian\n",
      "Predicts: Russian (0.83), Greek (0.09), Japanese (0.05)\n",
      "\n",
      "Surname : Khamikoeva\n",
      "True    : Russian\n",
      "Predicts: Russian (1.00), Czech (0.00), English (0.00)\n",
      "\n"
     ]
    }
   ],
   "source": [
    "students = [\n",
    "    \"Alexandrova\",\n",
    "    \"Baranov\",\n",
    "    \"Brusova\",\n",
    "    \"Volkova\",\n",
    "    \"Kovalev\",\n",
    "    \"Kostyuchenko\",\n",
    "    \"Kuzin\",\n",
    "    \"Likhachev\",\n",
    "    \"Telitsyn\",\n",
    "    \"Ustimova\",\n",
    "    \"Khamikoeva\",\n",
    "]\n",
    "for surname in students:\n",
    "    inference(\n",
    "        surname=surname,\n",
    "        target=\"Russian\",\n",
    "        model=net,\n",
    "        dataset=surnames_dataset,\n",
    "        labeler=labeler,\n",
    "        device=DEVICE,\n",
    "    )"
   ]
  },
  {
   "cell_type": "markdown",
   "source": [
    "**Вывод:** полносвязные слои удовлетворительно справляются с символами и словами."
   ],
   "metadata": {
    "collapsed": false,
    "pycharm": {
     "name": "#%% md\n"
    }
   }
  },
  {
   "cell_type": "markdown",
   "metadata": {
    "id": "PLmDB3fJtVox",
    "pycharm": {
     "name": "#%% md\n"
    }
   },
   "source": [
    "## 3. Классификация обзоров ресторанов\n",
    "\n",
    "Датасет: https://disk.yandex.ru/d/nY1o70JtAuYa8g\n"
   ]
  },
  {
   "cell_type": "markdown",
   "metadata": {
    "pycharm": {
     "name": "#%% md\n"
    }
   },
   "source": [
    "3.1 Считать файл `yelp/raw_train.csv`. Оставить от исходного датасета 10% строчек."
   ]
  },
  {
   "cell_type": "code",
   "execution_count": 84,
   "metadata": {
    "pycharm": {
     "name": "#%%\n"
    }
   },
   "outputs": [
    {
     "name": "stdout",
     "output_type": "stream",
     "text": [
      "560000\n"
     ]
    },
    {
     "data": {
      "text/plain": "   0                                                  1\n0  1  Unfortunately, the frustration of being Dr. Go...\n1  2  Been going to Dr. Goldberg for over 10 years. ...\n2  1  I don't know what Dr. Goldberg was like before...\n3  1  I'm writing this review to give you a heads up...\n4  2  All the food is great here. But the best thing...",
      "text/html": "<div>\n<style scoped>\n    .dataframe tbody tr th:only-of-type {\n        vertical-align: middle;\n    }\n\n    .dataframe tbody tr th {\n        vertical-align: top;\n    }\n\n    .dataframe thead th {\n        text-align: right;\n    }\n</style>\n<table border=\"1\" class=\"dataframe\">\n  <thead>\n    <tr style=\"text-align: right;\">\n      <th></th>\n      <th>0</th>\n      <th>1</th>\n    </tr>\n  </thead>\n  <tbody>\n    <tr>\n      <th>0</th>\n      <td>1</td>\n      <td>Unfortunately, the frustration of being Dr. Go...</td>\n    </tr>\n    <tr>\n      <th>1</th>\n      <td>2</td>\n      <td>Been going to Dr. Goldberg for over 10 years. ...</td>\n    </tr>\n    <tr>\n      <th>2</th>\n      <td>1</td>\n      <td>I don't know what Dr. Goldberg was like before...</td>\n    </tr>\n    <tr>\n      <th>3</th>\n      <td>1</td>\n      <td>I'm writing this review to give you a heads up...</td>\n    </tr>\n    <tr>\n      <th>4</th>\n      <td>2</td>\n      <td>All the food is great here. But the best thing...</td>\n    </tr>\n  </tbody>\n</table>\n</div>"
     },
     "execution_count": 84,
     "metadata": {},
     "output_type": "execute_result"
    }
   ],
   "source": [
    "reviews = pd.read_csv(\"raw_train.csv\", header=None)\n",
    "print(len(reviews))\n",
    "reviews.head()"
   ]
  },
  {
   "cell_type": "code",
   "execution_count": 85,
   "metadata": {
    "pycharm": {
     "name": "#%%\n"
    }
   },
   "outputs": [
    {
     "name": "stdout",
     "output_type": "stream",
     "text": [
      "56000\n"
     ]
    },
    {
     "data": {
      "text/plain": "   0                                                  1\n0  2  Call me crazy, but I really enjoyed this place...\n1  1  HORRIBLE, HORRIBLE, HORRIBLE ONLINE CUSTOMER S...\n2  2  The staff were extremely helpful in answering ...\n3  2  The steak tartare is fantastic!  I'd come back...\n4  2                    Everything I could want for $3.",
      "text/html": "<div>\n<style scoped>\n    .dataframe tbody tr th:only-of-type {\n        vertical-align: middle;\n    }\n\n    .dataframe tbody tr th {\n        vertical-align: top;\n    }\n\n    .dataframe thead th {\n        text-align: right;\n    }\n</style>\n<table border=\"1\" class=\"dataframe\">\n  <thead>\n    <tr style=\"text-align: right;\">\n      <th></th>\n      <th>0</th>\n      <th>1</th>\n    </tr>\n  </thead>\n  <tbody>\n    <tr>\n      <th>0</th>\n      <td>2</td>\n      <td>Call me crazy, but I really enjoyed this place...</td>\n    </tr>\n    <tr>\n      <th>1</th>\n      <td>1</td>\n      <td>HORRIBLE, HORRIBLE, HORRIBLE ONLINE CUSTOMER S...</td>\n    </tr>\n    <tr>\n      <th>2</th>\n      <td>2</td>\n      <td>The staff were extremely helpful in answering ...</td>\n    </tr>\n    <tr>\n      <th>3</th>\n      <td>2</td>\n      <td>The steak tartare is fantastic!  I'd come back...</td>\n    </tr>\n    <tr>\n      <th>4</th>\n      <td>2</td>\n      <td>Everything I could want for $3.</td>\n    </tr>\n  </tbody>\n</table>\n</div>"
     },
     "execution_count": 85,
     "metadata": {},
     "output_type": "execute_result"
    }
   ],
   "source": [
    "reviews = reviews.sample(frac=0.1, ignore_index=True, random_state=0)\n",
    "print(len(reviews))\n",
    "reviews.head()"
   ]
  },
  {
   "cell_type": "markdown",
   "metadata": {
    "pycharm": {
     "name": "#%% md\n"
    }
   },
   "source": [
    "3.2 Воспользоваться функцией `preprocess_text` из 1.1 для обработки текста отзыва. Закодировать рейтинг числами, начиная с 0."
   ]
  },
  {
   "cell_type": "code",
   "execution_count": 86,
   "metadata": {
    "pycharm": {
     "name": "#%%\n"
    }
   },
   "outputs": [
    {
     "name": "stdout",
     "output_type": "stream",
     "text": [
      "classes: 2\n"
     ]
    },
    {
     "data": {
      "text/plain": "   0                                                  1\n0  1  call crazy really enjoy place get ton food dec...\n1  0  horrible horrible horrible online customer ser...\n2  1  staff extremely helpful answer question take t...\n3  1  steak tartare fantastic come back vega dine gr...\n4  1                              everything could want",
      "text/html": "<div>\n<style scoped>\n    .dataframe tbody tr th:only-of-type {\n        vertical-align: middle;\n    }\n\n    .dataframe tbody tr th {\n        vertical-align: top;\n    }\n\n    .dataframe thead th {\n        text-align: right;\n    }\n</style>\n<table border=\"1\" class=\"dataframe\">\n  <thead>\n    <tr style=\"text-align: right;\">\n      <th></th>\n      <th>0</th>\n      <th>1</th>\n    </tr>\n  </thead>\n  <tbody>\n    <tr>\n      <th>0</th>\n      <td>1</td>\n      <td>call crazy really enjoy place get ton food dec...</td>\n    </tr>\n    <tr>\n      <th>1</th>\n      <td>0</td>\n      <td>horrible horrible horrible online customer ser...</td>\n    </tr>\n    <tr>\n      <th>2</th>\n      <td>1</td>\n      <td>staff extremely helpful answer question take t...</td>\n    </tr>\n    <tr>\n      <th>3</th>\n      <td>1</td>\n      <td>steak tartare fantastic come back vega dine gr...</td>\n    </tr>\n    <tr>\n      <th>4</th>\n      <td>1</td>\n      <td>everything could want</td>\n    </tr>\n  </tbody>\n</table>\n</div>"
     },
     "execution_count": 86,
     "metadata": {},
     "output_type": "execute_result"
    }
   ],
   "source": [
    "labeler = LabelEncoder()\n",
    "reviews[0] = labeler.fit_transform(reviews[0])\n",
    "reviews[1] = reviews[1].apply(lambda t: preprocess_text(t).replace(\".\", \"\"))\n",
    "print(f\"classes: {len(labeler.classes_)}\")\n",
    "reviews.head()"
   ]
  },
  {
   "cell_type": "markdown",
   "metadata": {
    "pycharm": {
     "name": "#%% md\n"
    }
   },
   "source": [
    "3.4 Реализовать класс `Vocab` (токен = слово)."
   ]
  },
  {
   "cell_type": "code",
   "execution_count": 87,
   "metadata": {
    "pycharm": {
     "name": "#%%\n"
    }
   },
   "outputs": [
    {
     "data": {
      "text/plain": "60218"
     },
     "execution_count": 87,
     "metadata": {},
     "output_type": "execute_result"
    }
   ],
   "source": [
    "class Vocab:\n",
    "    def __init__(self, data: t.Iterable[str]):\n",
    "        self.idx_to_token = list({w for text in data for w in nltk.word_tokenize(text)} - {\".\"})\n",
    "        self.token_to_idx = {t: i for i, t in enumerate(self.idx_to_token)}\n",
    "        self.vocab_len = len(self.idx_to_token)\n",
    "vocab = Vocab(reviews[1])\n",
    "vocab.vocab_len"
   ]
  },
  {
   "cell_type": "markdown",
   "metadata": {
    "pycharm": {
     "name": "#%% md\n"
    }
   },
   "source": [
    "3.5 Реализовать класс `ReviewDataset`."
   ]
  },
  {
   "cell_type": "code",
   "execution_count": 88,
   "metadata": {
    "pycharm": {
     "name": "#%%\n"
    }
   },
   "outputs": [],
   "source": [
    "class ReviewDataset(Dataset):\n",
    "    def __init__(self, data: t.List[str], targets: torch.Tensor, vocab: Vocab):\n",
    "        self.data = data\n",
    "        self.targets = targets\n",
    "        self.vocab = vocab\n",
    "\n",
    "    def vectorize(self, review: str):\n",
    "        vec = torch.zeros(self.vocab.vocab_len)\n",
    "        indices = [self.vocab.token_to_idx[w] for w in nltk.word_tokenize(review)]\n",
    "        vec[indices] = 1\n",
    "        return vec\n",
    "\n",
    "    def __len__(self):\n",
    "        return len(self.data)\n",
    "\n",
    "    def __getitem__(self, idx):\n",
    "        return self.vectorize(self.data[idx]), self.targets[idx]\n",
    "reviews_dataset = ReviewDataset(\n",
    "    data=reviews[1].tolist(),\n",
    "    targets=torch.tensor(reviews[0], dtype=torch.long),\n",
    "    vocab=vocab,\n",
    ")"
   ]
  },
  {
   "cell_type": "markdown",
   "metadata": {
    "pycharm": {
     "name": "#%% md\n"
    }
   },
   "source": [
    "3.3 Разбить датасет на обучающую и тестовую выборку."
   ]
  },
  {
   "cell_type": "code",
   "execution_count": 89,
   "metadata": {
    "pycharm": {
     "name": "#%%\n"
    }
   },
   "outputs": [
    {
     "data": {
      "text/plain": "(44800, 11200)"
     },
     "execution_count": 89,
     "metadata": {},
     "output_type": "execute_result"
    }
   ],
   "source": [
    "train_size = round(0.8 * len(reviews_dataset))\n",
    "test_size = len(reviews_dataset) - train_size\n",
    "train_dataset, test_dataset = random_split(reviews_dataset, lengths=(train_size, test_size))\n",
    "len(train_dataset), len(test_dataset)"
   ]
  },
  {
   "cell_type": "markdown",
   "metadata": {
    "pycharm": {
     "name": "#%% md\n"
    }
   },
   "source": [
    "3.6 Обучить классификатор."
   ]
  },
  {
   "cell_type": "code",
   "execution_count": 90,
   "metadata": {
    "pycharm": {
     "name": "#%%\n"
    }
   },
   "outputs": [],
   "source": [
    "class ReviewsClassifier(nn.Module):\n",
    "    def __init__(self, in_features, out_features):\n",
    "        super(ReviewsClassifier, self).__init__()\n",
    "        self.seq = nn.Sequential(  # простой классификатор и тут справится с задачей?\n",
    "            nn.Linear(in_features, 256),\n",
    "            nn.ReLU(),\n",
    "            nn.Dropout(),\n",
    "            nn.Linear(256, out_features),\n",
    "            # Интересно, почему в лекциях иногда используют CrossEntropyLoss, а иногда SoftMax + NLLLoss?\n",
    "            # Они же эквивалентны: https://pytorch.org/docs/stable/generated/torch.nn.CrossEntropyLoss.html\n",
    "            nn.LogSoftmax(dim=1),\n",
    "        )\n",
    "\n",
    "    def forward(self, inputs):\n",
    "        return self.seq(inputs)"
   ]
  },
  {
   "cell_type": "code",
   "execution_count": 91,
   "metadata": {
    "pycharm": {
     "name": "#%%\n"
    }
   },
   "outputs": [],
   "source": [
    "torch.manual_seed(0)\n",
    "net = ReviewsClassifier(vocab.vocab_len, vocab.vocab_len).to(DEVICE)\n",
    "loss_fn = nn.NLLLoss()\n",
    "optimizer = optim.Adam(net.parameters(), lr=0.0005)\n",
    "train_dataloader = DataLoader(train_dataset, batch_size=64, shuffle=True)\n",
    "test_dataloader = DataLoader(test_dataset, batch_size=1024)"
   ]
  },
  {
   "cell_type": "code",
   "execution_count": 92,
   "metadata": {
    "pycharm": {
     "name": "#%%\n"
    }
   },
   "outputs": [
    {
     "name": "stdout",
     "output_type": "stream",
     "text": [
      "Epoch 1\n",
      "--------------------------------\n",
      "loss: 10.992883  [    0/44800]\n",
      "loss: 0.455714  [12800/44800]\n",
      "loss: 0.404619  [25600/44800]\n",
      "loss: 0.420688  [38400/44800]\n",
      "Test Error: \n",
      " Accuracy: 0.911964, Avg loss: 0.255935 \n",
      "\n",
      "Epoch 2\n",
      "--------------------------------\n",
      "loss: 0.257176  [    0/44800]\n",
      "loss: 0.093364  [12800/44800]\n",
      "loss: 0.179933  [25600/44800]\n",
      "loss: 0.104061  [38400/44800]\n",
      "Test Error: \n",
      " Accuracy: 0.916696, Avg loss: 0.222681 \n",
      "\n",
      "Epoch 3\n",
      "--------------------------------\n",
      "loss: 0.163183  [    0/44800]\n",
      "loss: 0.171181  [12800/44800]\n",
      "loss: 0.123891  [25600/44800]\n",
      "loss: 0.272693  [38400/44800]\n",
      "Test Error: \n",
      " Accuracy: 0.913482, Avg loss: 0.226486 \n",
      "\n",
      "Epoch 4\n",
      "--------------------------------\n",
      "loss: 0.102601  [    0/44800]\n",
      "loss: 0.068869  [12800/44800]\n",
      "loss: 0.129531  [25600/44800]\n",
      "loss: 0.123264  [38400/44800]\n",
      "Test Error: \n",
      " Accuracy: 0.912232, Avg loss: 0.234696 \n",
      "\n"
     ]
    }
   ],
   "source": [
    "train_losses = common_train(\n",
    "    epochs=4,\n",
    "    model=net,\n",
    "    loss_fn=loss_fn,\n",
    "    optimizer=optimizer,\n",
    "    train_dataloader=train_dataloader,\n",
    "    test_dataloader=test_dataloader,\n",
    "    verbose=200,\n",
    "    device=DEVICE,\n",
    ")"
   ]
  },
  {
   "cell_type": "code",
   "execution_count": 93,
   "metadata": {
    "pycharm": {
     "name": "#%%\n"
    }
   },
   "outputs": [
    {
     "data": {
      "text/plain": "<Figure size 576x288 with 1 Axes>",
      "image/png": "[encoded data removed]"
     },
     "metadata": {},
     "output_type": "display_data"
    }
   ],
   "source": [
    "plot_losses(train_losses)"
   ]
  },
  {
   "cell_type": "markdown",
   "metadata": {
    "pycharm": {
     "name": "#%% md\n"
    }
   },
   "source": [
    "3.7 Измерить точность на тестовой выборке. Проверить работоспособность модели: придумать небольшой отзыв, прогнать его через модель и вывести номер предсказанного класса (сделать это для явно позитивного и явно негативного отзыва)."
   ]
  },
  {
   "cell_type": "code",
   "execution_count": 94,
   "metadata": {
    "pycharm": {
     "name": "#%%\n"
    }
   },
   "outputs": [
    {
     "name": "stdout",
     "output_type": "stream",
     "text": [
      "Test Error: \n",
      " Accuracy: 0.912232, Avg loss: 0.234696 \n",
      "\n"
     ]
    }
   ],
   "source": [
    "test_loop(dataloader=test_dataloader, model=net, loss_fn=loss_fn, device=DEVICE);"
   ]
  },
  {
   "cell_type": "code",
   "execution_count": 95,
   "metadata": {
    "pycharm": {
     "name": "#%%\n"
    }
   },
   "outputs": [
    {
     "name": "stdout",
     "output_type": "stream",
     "text": [
      "Review : everything bad bad place bother visit\n",
      "True   : 1\n",
      "Predict: 1 (0.84)\n",
      "\n",
      "Review : wonderful place like everything\n",
      "True   : 2\n",
      "Predict: 2 (0.93)\n",
      "\n"
     ]
    },
    {
     "name": "stderr",
     "output_type": "stream",
     "text": [
      "c:\\users\\ace\\appdata\\local\\programs\\python\\python39\\lib\\site-packages\\sklearn\\utils\\validation.py:1023: FutureWarning: The input object of type 'Tensor' is an array-like implementing one of the corresponding protocols (`__array__`, `__array_interface__` or `__array_struct__`); but not a sequence (or 0-D). In the future, this object will be coerced as if it was first converted using `np.array(obj)`. To retain the old behaviour, you have to either modify the type 'Tensor', or assign to an empty array created with `np.empty(correct_shape, dtype=object)`.\n",
      "  y = np.asarray(y)\n"
     ]
    }
   ],
   "source": [
    "def inference(\n",
    "        review: str,\n",
    "        target: int,\n",
    "        model: nn.Module,\n",
    "        dataset: ReviewDataset,\n",
    "        labeler: LabelEncoder,\n",
    "        device: str = \"cpu\",\n",
    "):\n",
    "    x = dataset.vectorize(review)\n",
    "    x = x.to(device)\n",
    "\n",
    "    pred = model(x.unsqueeze(0))\n",
    "    pred_proba, pred_label_idx = F.softmax(pred, 1).max(dim=1)\n",
    "    pred_label = labeler.inverse_transform([pred_label_idx.cpu()])\n",
    "\n",
    "    print(f\"Review : {review}\")\n",
    "    print(f\"True   : {target}\")\n",
    "    print(f\"Predict: {pred_label.item()} ({pred_proba.item():.2f})\\n\")\n",
    "\n",
    "reviews = [\n",
    "    (\"Everything is very bad. This is the worst place I haven't bothered to visit.\", 1),\n",
    "    (\"A wonderful place. I liked everything.\", 2),\n",
    "]\n",
    "for review, target in reviews:\n",
    "    inference(\n",
    "        review=preprocess_text(review).replace(\".\", \"\"),\n",
    "        target=target,\n",
    "        model=net,\n",
    "        dataset=reviews_dataset,\n",
    "        labeler=labeler,\n",
    "        device=DEVICE,\n",
    "    )"
   ]
  }
 ],
 "metadata": {
  "colab": {
   "authorship_tag": "ABX9TyMJ70DQQj2X/XaG2BMq6jy8",
   "collapsed_sections": [],
   "name": "blank__05_NLP_1_intro.ipynb",
   "provenance": [],
   "toc_visible": true
  },
  "kernelspec": {
   "display_name": "Python 3 (ipykernel)",
   "language": "python",
   "name": "python3"
  },
  "language_info": {
   "codemirror_mode": {
    "name": "ipython",
    "version": 3
   },
   "file_extension": ".py",
   "mimetype": "text/x-python",
   "name": "python",
   "nbconvert_exporter": "python",
   "pygments_lexer": "ipython3",
   "version": "3.7.12"
  }
 },
 "nbformat": 4,
 "nbformat_minor": 1
}