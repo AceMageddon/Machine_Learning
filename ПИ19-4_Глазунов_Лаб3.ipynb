{
 "cells": [
  {
   "cell_type": "markdown",
   "metadata": {
    "pycharm": {
     "name": "#%% md\n"
    }
   },
   "source": [
    "# 3. Создание нейронной сети при помощи пакета `torch`. Dataset и Dataloader.\n",
    "\n",
    "__Автор__: Никита Владимирович Блохин (NVBlokhin@fa.ru)\n",
    "\n",
    "Финансовый университет, 2020 г. "
   ]
  },
  {
   "cell_type": "code",
   "execution_count": 79,
   "metadata": {
    "id": "6ktSXdQVb9Li",
    "pycharm": {
     "name": "#%%\n"
    }
   },
   "outputs": [],
   "source": [
    "import torch\n",
    "import numpy as np\n",
    "import matplotlib.pyplot as plt\n",
    "%matplotlib inline\n",
    "from sklearn import datasets, metrics\n",
    "import pandas as pd\n",
    "from sklearn.datasets import make_regression"
   ]
  },
  {
   "cell_type": "markdown",
   "metadata": {
    "id": "4L7Inb1JbiDy",
    "pycharm": {
     "name": "#%% md\n"
    }
   },
   "source": [
    "## 1. Автоматическое дифференцирование в `torch`"
   ]
  },
  {
   "cell_type": "markdown",
   "metadata": {
    "id": "HsZ69HZ0EsI7",
    "pycharm": {
     "name": "#%% md\n"
    }
   },
   "source": [
    "1.1 Воспользовавшись классами `Neuron` и `MSELoss` из задачи 2.4.1 и автоматическим дифференцированием, которое предоставляет `torch`, решить задачу регрессии. Для оптимизации использовать стохастический градиетный спуск."
   ]
  },
  {
   "cell_type": "code",
   "execution_count": 80,
   "metadata": {
    "id": "zynPAaOrRKTm",
    "pycharm": {
     "name": "#%%\n"
    }
   },
   "outputs": [],
   "source": [
    "X, y, coef = make_regression(n_features=4, n_informative=4, coef=True, bias=0.5)\n",
    "X = torch.from_numpy(X).to(dtype=torch.float32)\n",
    "y = torch.from_numpy(y).to(dtype=torch.float32)"
   ]
  },
  {
   "cell_type": "code",
   "execution_count": 3,
   "metadata": {
    "pycharm": {
     "name": "#%%\n"
    }
   },
   "outputs": [],
   "source": [
    "class Neuron:\n",
    "    def __init__(self, in_features: int):\n",
    "        self.in_features = in_features\n",
    "        self.weights = torch.randn(self.in_features, requires_grad=True)\n",
    "        self.bias = torch.randn(1, requires_grad=True)\n",
    "\n",
    "    def forward(self, inputs: torch.Tensor) -> torch.Tensor:\n",
    "        return torch.sum(self.weights * inputs) + self.bias"
   ]
  },
  {
   "cell_type": "code",
   "execution_count": 4,
   "metadata": {
    "pycharm": {
     "name": "#%%\n"
    }
   },
   "outputs": [],
   "source": [
    "class SELoss:\n",
    "    def forward(self, y_pred: torch.Tensor, y_true: torch.Tensor) -> torch.Tensor:\n",
    "        return (y_pred - y_true) ** 2"
   ]
  },
  {
   "cell_type": "code",
   "execution_count": 5,
   "metadata": {
    "pycharm": {
     "name": "#%%\n"
    }
   },
   "outputs": [
    {
     "data": {
      "text/plain": "<torch._C.Generator at 0x1c3cd387ad0>"
     },
     "execution_count": 5,
     "metadata": {},
     "output_type": "execute_result"
    }
   ],
   "source": [
    "torch.manual_seed(0)"
   ]
  },
  {
   "cell_type": "code",
   "execution_count": 6,
   "metadata": {
    "pycharm": {
     "name": "#%%\n"
    }
   },
   "outputs": [],
   "source": [
    "neuron = Neuron(X.size(1))\n",
    "se = SELoss()\n",
    "lr = 0.1\n",
    "epochs = 10"
   ]
  },
  {
   "cell_type": "code",
   "execution_count": 7,
   "metadata": {
    "pycharm": {
     "name": "#%%\n"
    }
   },
   "outputs": [],
   "source": [
    "for epoch in range(epochs):\n",
    "    for i, (x, y_true) in enumerate(zip(X, y)):\n",
    "        y_pred = neuron.forward(x)\n",
    "\n",
    "        loss = se.forward(y_pred, y_true)\n",
    "        loss.backward()\n",
    "\n",
    "        with torch.no_grad():\n",
    "            neuron.weights -= lr * neuron.weights.grad\n",
    "            neuron.bias -= lr * neuron.bias.grad\n",
    "\n",
    "        neuron.weights.grad.zero_()\n",
    "        neuron.bias.grad.zero_()"
   ]
  },
  {
   "cell_type": "code",
   "execution_count": 8,
   "metadata": {
    "pycharm": {
     "name": "#%%\n"
    }
   },
   "outputs": [
    {
     "data": {
      "text/plain": "(tensor([44.2134, 43.4610, 91.5638, 21.2008], requires_grad=True),\n array([44.21341306, 43.461014  , 91.56381033, 21.20078475]))"
     },
     "execution_count": 8,
     "metadata": {},
     "output_type": "execute_result"
    }
   ],
   "source": [
    "tens = neuron.weights\n",
    "tens, coef"
   ]
  },
  {
   "cell_type": "markdown",
   "metadata": {
    "id": "wxWeyJw5lAqU",
    "pycharm": {
     "name": "#%% md\n"
    }
   },
   "source": [
    "1.2 Воспользовавшись классами `Linear` и `MSELoss` из задачи 2.1.4 и 2.3.1, `ReLU` из 2.2.1 и автоматическим дифференцированием, которое предоставляет `torch`, решить задачу регрессии. Для оптимизации использовать пакетный градиентный спуск. Вывести график функции потерь в зависимости от номера эпохи. Вывести на одном графике исходные данные и предсказанные значения."
   ]
  },
  {
   "cell_type": "code",
   "execution_count": 9,
   "metadata": {
    "id": "bnlAt1NEQoat",
    "pycharm": {
     "name": "#%%\n"
    }
   },
   "outputs": [],
   "source": [
    "X = torch.linspace(0, 1, 100).view(-1, 1)\n",
    "y = torch.sin(2 * np.pi * X) + 0.1 * torch.rand(X.size()) "
   ]
  },
  {
   "cell_type": "code",
   "execution_count": 10,
   "metadata": {
    "pycharm": {
     "name": "#%%\n"
    }
   },
   "outputs": [],
   "source": [
    "class Linear:\n",
    "    def __init__(self, in_features: int, out_features: int):\n",
    "        self.in_features = in_features\n",
    "        self.out_features = out_features\n",
    "        self.weights = torch.randn(out_features, in_features, requires_grad=True)\n",
    "        self.biases = torch.randn(out_features, requires_grad=True)\n",
    "\n",
    "    def forward(self, inputs: torch.Tensor) -> torch.Tensor:\n",
    "        return torch.matmul(inputs, self.weights.T) + self.biases"
   ]
  },
  {
   "cell_type": "code",
   "execution_count": 11,
   "metadata": {
    "pycharm": {
     "name": "#%%\n"
    }
   },
   "outputs": [],
   "source": [
    "class MSELoss:\n",
    "    def forward(self, y_pred: torch.Tensor, y_true: torch.Tensor) -> torch.Tensor:\n",
    "        return torch.mean((y_pred - y_true) ** 2)"
   ]
  },
  {
   "cell_type": "code",
   "execution_count": 12,
   "metadata": {
    "pycharm": {
     "name": "#%%\n"
    }
   },
   "outputs": [],
   "source": [
    "class ReLU:\n",
    "    def forward(self, inputs: torch.Tensor) -> torch.Tensor:\n",
    "        return torch.maximum(inputs, torch.tensor(0))"
   ]
  },
  {
   "cell_type": "code",
   "execution_count": 13,
   "metadata": {
    "pycharm": {
     "name": "#%%\n"
    }
   },
   "outputs": [
    {
     "data": {
      "text/plain": "<torch._C.Generator at 0x1c3cd387ad0>"
     },
     "execution_count": 13,
     "metadata": {},
     "output_type": "execute_result"
    }
   ],
   "source": [
    "torch.manual_seed(0)"
   ]
  },
  {
   "cell_type": "code",
   "execution_count": 14,
   "metadata": {
    "pycharm": {
     "name": "#%%\n"
    }
   },
   "outputs": [],
   "source": [
    "fc1 = Linear(X.size(1), 100)\n",
    "relu = ReLU()\n",
    "fc2 = Linear(100, y.size(1))\n",
    "mse = MSELoss()\n",
    "lr = 0.01\n",
    "epochs = 1000\n",
    "losses = torch.empty(epochs)"
   ]
  },
  {
   "cell_type": "code",
   "execution_count": 15,
   "metadata": {
    "pycharm": {
     "name": "#%%\n"
    }
   },
   "outputs": [],
   "source": [
    "for epoch in range(epochs):\n",
    "    y_pred = fc2.forward(relu.forward(fc1.forward(X)))\n",
    "\n",
    "    loss = mse.forward(y_pred, y)\n",
    "    loss.backward()\n",
    "    losses[epoch] = loss\n",
    "\n",
    "    with torch.no_grad():\n",
    "        fc1.weights -= lr * fc1.weights.grad\n",
    "        fc1.biases -= lr * fc1.biases.grad\n",
    "        fc2.weights -= lr * fc2.weights.grad\n",
    "        fc2.biases -= lr * fc2.biases.grad\n",
    "\n",
    "    fc1.weights.grad.zero_()\n",
    "    fc1.biases.grad.zero_()\n",
    "    fc2.weights.grad.zero_()\n",
    "    fc2.biases.grad.zero_()"
   ]
  },
  {
   "cell_type": "code",
   "execution_count": 16,
   "metadata": {
    "pycharm": {
     "name": "#%%\n"
    }
   },
   "outputs": [],
   "source": [
    "predicts = fc2.forward(relu.forward(fc1.forward(X)))"
   ]
  },
  {
   "cell_type": "code",
   "execution_count": 17,
   "metadata": {
    "pycharm": {
     "name": "#%%\n"
    }
   },
   "outputs": [
    {
     "data": {
      "text/plain": "<Figure size 432x288 with 1 Axes>",
      "image/png": "[encoded data removed]"
     },
     "metadata": {
      "needs_background": "light"
     },
     "output_type": "display_data"
    }
   ],
   "source": [
    "plt.plot(torch.arange(losses.size(0)), losses.detach().numpy());"
   ]
  },
  {
   "cell_type": "code",
   "execution_count": 18,
   "metadata": {
    "pycharm": {
     "name": "#%%\n"
    }
   },
   "outputs": [
    {
     "data": {
      "text/plain": "<Figure size 432x288 with 1 Axes>",
      "image/png": "[encoded data removed]"
     },
     "metadata": {
      "needs_background": "light"
     },
     "output_type": "display_data"
    }
   ],
   "source": [
    "_, ax = plt.subplots(1)\n",
    "\n",
    "ax.scatter(X, y, s=10)\n",
    "ax.plot(X, predicts.detach(), c='r', lw=2);"
   ]
  },
  {
   "cell_type": "markdown",
   "metadata": {
    "id": "nifm0FVB2y5N",
    "pycharm": {
     "name": "#%% md\n"
    }
   },
   "source": [
    "## 2. Алгоритмы оптимизации в `torch.optim`"
   ]
  },
  {
   "cell_type": "code",
   "execution_count": 19,
   "metadata": {
    "id": "u5PTTYou3xx8",
    "pycharm": {
     "name": "#%%\n"
    }
   },
   "outputs": [],
   "source": [
    "import torch.optim as optim"
   ]
  },
  {
   "cell_type": "markdown",
   "metadata": {
    "id": "0oBFfJpmcwfn",
    "pycharm": {
     "name": "#%% md\n"
    }
   },
   "source": [
    "2.1 Решить задачу 1.1, воспользовавшись оптимизатором `optim.SDG` для применения стохастического градиентого спуска"
   ]
  },
  {
   "cell_type": "code",
   "execution_count": 20,
   "metadata": {
    "pycharm": {
     "name": "#%%\n"
    }
   },
   "outputs": [],
   "source": [
    "X, y, coef = make_regression(n_features=4, n_informative=4, coef=True, bias=0.5)"
   ]
  },
  {
   "cell_type": "code",
   "execution_count": 21,
   "metadata": {
    "pycharm": {
     "name": "#%%\n"
    }
   },
   "outputs": [],
   "source": [
    "X = torch.from_numpy(X).to(dtype=torch.float32)\n",
    "y = torch.from_numpy(y).to(dtype=torch.float32)"
   ]
  },
  {
   "cell_type": "code",
   "execution_count": 22,
   "metadata": {
    "pycharm": {
     "name": "#%%\n"
    }
   },
   "outputs": [
    {
     "data": {
      "text/plain": "<torch._C.Generator at 0x1c3cd387ad0>"
     },
     "execution_count": 22,
     "metadata": {},
     "output_type": "execute_result"
    }
   ],
   "source": [
    "torch.manual_seed(0)"
   ]
  },
  {
   "cell_type": "code",
   "execution_count": 23,
   "metadata": {
    "pycharm": {
     "name": "#%%\n"
    }
   },
   "outputs": [],
   "source": [
    "neuron = Neuron(X.size(1))\n",
    "se = SELoss()\n",
    "lr = 0.1\n",
    "optimizer = optim.SGD([neuron.weights, neuron.bias], lr=lr)\n",
    "epochs = 10"
   ]
  },
  {
   "cell_type": "code",
   "execution_count": 24,
   "metadata": {
    "pycharm": {
     "name": "#%%\n"
    }
   },
   "outputs": [],
   "source": [
    "for epoch in range(epochs):\n",
    "    for i, (x, y_true) in enumerate(zip(X, y)):\n",
    "        optimizer.zero_grad()\n",
    "        y_pred = neuron.forward(x)\n",
    "        loss = se.forward(y_pred, y_true)\n",
    "        loss.backward()\n",
    "        optimizer.step()"
   ]
  },
  {
   "cell_type": "code",
   "execution_count": 25,
   "metadata": {
    "scrolled": true,
    "pycharm": {
     "name": "#%%\n"
    }
   },
   "outputs": [
    {
     "data": {
      "text/plain": "(tensor([57.4870, 46.6385, 62.3568, 23.2829], requires_grad=True),\n array([57.48701348, 46.63850183, 62.35681511, 23.28290279]))"
     },
     "execution_count": 25,
     "metadata": {},
     "output_type": "execute_result"
    }
   ],
   "source": [
    "tens = neuron.weights\n",
    "tens, coef"
   ]
  },
  {
   "cell_type": "markdown",
   "metadata": {
    "id": "1LFAacdy46bX",
    "pycharm": {
     "name": "#%% md\n"
    }
   },
   "source": [
    "2.2 Решить задачу 1.2, воспользовавшись оптимизатором `optim.Adam` для применения пакетного градиентого спуска. Вывести график функции потерь в зависимости от номера эпохи. Вывести на одном графике исходные данные и предсказанные значения."
   ]
  },
  {
   "cell_type": "code",
   "execution_count": 26,
   "metadata": {
    "pycharm": {
     "name": "#%%\n"
    }
   },
   "outputs": [],
   "source": [
    "X = torch.linspace(0, 1, 100).view(-1, 1)\n",
    "y = torch.sin(2 * np.pi * X) + 0.1 * torch.rand(X.size())"
   ]
  },
  {
   "cell_type": "code",
   "execution_count": 27,
   "metadata": {
    "scrolled": true,
    "pycharm": {
     "name": "#%%\n"
    }
   },
   "outputs": [
    {
     "data": {
      "text/plain": "<torch._C.Generator at 0x1c3cd387ad0>"
     },
     "execution_count": 27,
     "metadata": {},
     "output_type": "execute_result"
    }
   ],
   "source": [
    "torch.manual_seed(0)"
   ]
  },
  {
   "cell_type": "code",
   "execution_count": 28,
   "metadata": {
    "pycharm": {
     "name": "#%%\n"
    }
   },
   "outputs": [],
   "source": [
    "fc1 = Linear(X.size(1), 100)\n",
    "relu = ReLU()\n",
    "fc2 = Linear(100, y.size(1))\n",
    "mse = MSELoss()\n",
    "lr = 0.01\n",
    "optimizer = optim.Adam([fc1.weights, fc1.biases, fc2.weights, fc2.biases], lr=lr)\n",
    "epochs = 1000\n",
    "losses = torch.empty(epochs)"
   ]
  },
  {
   "cell_type": "code",
   "execution_count": 29,
   "metadata": {
    "pycharm": {
     "name": "#%%\n"
    }
   },
   "outputs": [],
   "source": [
    "for epoch in range(epochs):\n",
    "    optimizer.zero_grad()\n",
    "    y_pred = fc2.forward(relu.forward(fc1.forward(X)))\n",
    "    loss = mse.forward(y_pred, y)\n",
    "    loss.backward()\n",
    "    losses[epoch] = loss\n",
    "    optimizer.step()"
   ]
  },
  {
   "cell_type": "code",
   "execution_count": 30,
   "metadata": {
    "pycharm": {
     "name": "#%%\n"
    }
   },
   "outputs": [],
   "source": [
    "predicts = fc2.forward(relu.forward(fc1.forward(X)))"
   ]
  },
  {
   "cell_type": "code",
   "execution_count": 31,
   "metadata": {
    "pycharm": {
     "name": "#%%\n"
    }
   },
   "outputs": [
    {
     "data": {
      "text/plain": "<Figure size 432x288 with 1 Axes>",
      "image/png": "[encoded data removed]"
     },
     "metadata": {
      "needs_background": "light"
     },
     "output_type": "display_data"
    }
   ],
   "source": [
    "plt.plot(torch.arange(losses.size(0)), losses.detach().numpy());"
   ]
  },
  {
   "cell_type": "code",
   "execution_count": 32,
   "metadata": {
    "pycharm": {
     "name": "#%%\n"
    }
   },
   "outputs": [
    {
     "data": {
      "text/plain": "<Figure size 432x288 with 1 Axes>",
      "image/png": "[encoded data removed]"
     },
     "metadata": {
      "needs_background": "light"
     },
     "output_type": "display_data"
    }
   ],
   "source": [
    "_, ax = plt.subplots(1)\n",
    "ax.scatter(X, y, s=10)\n",
    "ax.plot(X, predicts.detach(), c='r', lw=2);"
   ]
  },
  {
   "cell_type": "markdown",
   "metadata": {
    "id": "n-qUqdALiN-G",
    "pycharm": {
     "name": "#%% md\n"
    }
   },
   "source": [
    "## 3. Построение сетей при помощи `torch.nn`"
   ]
  },
  {
   "cell_type": "code",
   "execution_count": 33,
   "metadata": {
    "id": "Vxsck-1M6TAV",
    "pycharm": {
     "name": "#%%\n"
    }
   },
   "outputs": [],
   "source": [
    "import torch.nn as nn"
   ]
  },
  {
   "cell_type": "markdown",
   "metadata": {
    "id": "M0ICJtarif3_",
    "pycharm": {
     "name": "#%% md\n"
    }
   },
   "source": [
    "3.1 Решить задачу регрессии, соблюдая следующие условия:\n",
    "\n",
    "1. Оформить нейронную сеть в виде класса - наследника `nn.Module`\n",
    "2. При создании сети использовать готовые блоки из `torch.nn`: слои, функции активации, функции потерь и т.д.\n",
    "3. Для оптимизации использовать любой алгоритм оптимизации из `torch.optim` "
   ]
  },
  {
   "cell_type": "code",
   "execution_count": 34,
   "metadata": {
    "id": "L1bvXHhO7aWs",
    "pycharm": {
     "name": "#%%\n"
    }
   },
   "outputs": [],
   "source": [
    "X = torch.linspace(0, 1, 100).view(-1, 1)\n",
    "y = torch.sin(2 * np.pi * X) + 0.1 * torch.rand(X.size()) "
   ]
  },
  {
   "cell_type": "code",
   "execution_count": 35,
   "metadata": {
    "pycharm": {
     "name": "#%%\n"
    }
   },
   "outputs": [],
   "source": [
    "class Net(nn.Module):\n",
    "    def __init__(self, in_features: int, out_features: int):\n",
    "        super(Net, self).__init__()\n",
    "        self.in_features = in_features\n",
    "        self.out_features = out_features\n",
    "        self.fc1 = nn.Linear(self.in_features, 100)\n",
    "        self.relu = nn.ReLU()\n",
    "        self.fc2 = nn.Linear(100, self.out_features)\n",
    "\n",
    "    def forward(self, inputs: torch.Tensor) -> torch.Tensor:\n",
    "        return self.fc2(self.relu(self.fc1(inputs)))"
   ]
  },
  {
   "cell_type": "code",
   "execution_count": 36,
   "metadata": {
    "pycharm": {
     "name": "#%%\n"
    }
   },
   "outputs": [
    {
     "data": {
      "text/plain": "<torch._C.Generator at 0x1c3cd387ad0>"
     },
     "execution_count": 36,
     "metadata": {},
     "output_type": "execute_result"
    }
   ],
   "source": [
    "torch.manual_seed(0)"
   ]
  },
  {
   "cell_type": "code",
   "execution_count": 37,
   "metadata": {
    "pycharm": {
     "name": "#%%\n"
    }
   },
   "outputs": [],
   "source": [
    "net = Net(X.size(1), y.size(1))\n",
    "criterion = nn.MSELoss()\n",
    "optimizer = optim.Adam(net.parameters(), lr=0.01)"
   ]
  },
  {
   "cell_type": "code",
   "execution_count": 38,
   "metadata": {
    "pycharm": {
     "name": "#%%\n"
    }
   },
   "outputs": [],
   "source": [
    "for epoch in range(1000):\n",
    "    optimizer.zero_grad()\n",
    "    y_pred = net(X)\n",
    "    loss = criterion(y_pred, y)\n",
    "    loss.backward()\n",
    "    optimizer.step()"
   ]
  },
  {
   "cell_type": "code",
   "execution_count": 39,
   "metadata": {
    "pycharm": {
     "name": "#%%\n"
    }
   },
   "outputs": [],
   "source": [
    "predicts = net(X)"
   ]
  },
  {
   "cell_type": "code",
   "execution_count": 40,
   "metadata": {
    "pycharm": {
     "name": "#%%\n"
    }
   },
   "outputs": [
    {
     "data": {
      "text/plain": "<Figure size 432x288 with 1 Axes>",
      "image/png": "[encoded data removed]"
     },
     "metadata": {
      "needs_background": "light"
     },
     "output_type": "display_data"
    }
   ],
   "source": [
    "_, ax = plt.subplots(1)\n",
    "ax.scatter(X, y, s=10)\n",
    "ax.plot(X, predicts.detach(), c='r', lw=2);"
   ]
  },
  {
   "cell_type": "markdown",
   "metadata": {
    "id": "UPUW6fm5jbQd",
    "pycharm": {
     "name": "#%% md\n"
    }
   },
   "source": [
    "3.2 Решить задачу регрессии, соблюдая следующие условия:\n",
    "\n",
    "1. Оформить нейронную сеть в виде объекта `nn.Sequential`\n",
    "2. При создании сети использовать готовые блоки из `torch.nn`: слои, функции активации, функции потерь и т.д.\n",
    "3. Для оптимизации использовать любой алгоритм оптимизации из `torch.optim` "
   ]
  },
  {
   "cell_type": "code",
   "execution_count": 41,
   "metadata": {
    "id": "BBwbAEd57a2r",
    "pycharm": {
     "name": "#%%\n"
    }
   },
   "outputs": [],
   "source": [
    "X = torch.linspace(0, 1, 100).view(-1, 1)\n",
    "y = torch.sin(2 * np.pi * X) + 0.1 * torch.rand(X.size()) "
   ]
  },
  {
   "cell_type": "code",
   "execution_count": 42,
   "metadata": {
    "scrolled": true,
    "pycharm": {
     "name": "#%%\n"
    }
   },
   "outputs": [
    {
     "data": {
      "text/plain": "<torch._C.Generator at 0x1c3cd387ad0>"
     },
     "execution_count": 42,
     "metadata": {},
     "output_type": "execute_result"
    }
   ],
   "source": [
    "torch.manual_seed(0)"
   ]
  },
  {
   "cell_type": "code",
   "execution_count": 43,
   "metadata": {
    "pycharm": {
     "name": "#%%\n"
    }
   },
   "outputs": [],
   "source": [
    "in_features = X.size(1)\n",
    "out_features = y.size(1)"
   ]
  },
  {
   "cell_type": "code",
   "execution_count": 44,
   "metadata": {
    "pycharm": {
     "name": "#%%\n"
    }
   },
   "outputs": [],
   "source": [
    "net = nn.Sequential(\n",
    "    nn.Linear(in_features, 30),\n",
    "    nn.ReLU(),\n",
    "    nn.Linear(30, 100),\n",
    "    nn.ReLU(),\n",
    "    nn.Linear(100, out_features),\n",
    ")"
   ]
  },
  {
   "cell_type": "code",
   "execution_count": 45,
   "metadata": {
    "pycharm": {
     "name": "#%%\n"
    }
   },
   "outputs": [],
   "source": [
    "criterion = nn.L1Loss()\n",
    "optimizer = optim.SGD(net.parameters(), lr=0.01, momentum=0.9)"
   ]
  },
  {
   "cell_type": "code",
   "execution_count": 46,
   "metadata": {
    "pycharm": {
     "name": "#%%\n"
    }
   },
   "outputs": [],
   "source": [
    "for epoch in range(1000):\n",
    "    optimizer.zero_grad()\n",
    "    y_pred = net(X)\n",
    "    loss = criterion(y_pred, y)\n",
    "    loss.backward()\n",
    "    optimizer.step()"
   ]
  },
  {
   "cell_type": "code",
   "execution_count": 47,
   "metadata": {
    "pycharm": {
     "name": "#%%\n"
    }
   },
   "outputs": [],
   "source": [
    "predicts = net(X)"
   ]
  },
  {
   "cell_type": "code",
   "execution_count": 48,
   "metadata": {
    "pycharm": {
     "name": "#%%\n"
    }
   },
   "outputs": [
    {
     "data": {
      "text/plain": "<Figure size 432x288 with 1 Axes>",
      "image/png": "[encoded data removed]"
     },
     "metadata": {
      "needs_background": "light"
     },
     "output_type": "display_data"
    }
   ],
   "source": [
    "_, ax = plt.subplots(1)\n",
    "ax.scatter(X, y, s=10)\n",
    "ax.plot(X, predicts.detach(), c='r', lw=2);"
   ]
  },
  {
   "cell_type": "markdown",
   "metadata": {
    "pycharm": {
     "name": "#%% md\n"
    }
   },
   "source": [
    "3.3 Решить задачу классификации. Датасет: Breast Cancer Wisconsin\n",
    "1. Оформить нейронную сеть в виде объекта `nn.Sequential`\n",
    "2. При создании сети использовать готовые блоки из `torch.nn`: слои, функции активации, функции потерь и т.д.\n",
    "3. Для оптимизации использовать любой алгоритм оптимизации из `torch.optim` "
   ]
  },
  {
   "cell_type": "code",
   "execution_count": 49,
   "metadata": {
    "pycharm": {
     "name": "#%%\n"
    }
   },
   "outputs": [],
   "source": [
    "dataset = datasets.load_breast_cancer()"
   ]
  },
  {
   "cell_type": "code",
   "execution_count": 50,
   "metadata": {
    "pycharm": {
     "name": "#%%\n"
    }
   },
   "outputs": [],
   "source": [
    "X = torch.from_numpy(dataset.data).to(torch.float32)\n",
    "y = torch.from_numpy(dataset.target).to(torch.float32).view(-1, 1)"
   ]
  },
  {
   "cell_type": "code",
   "execution_count": 51,
   "metadata": {
    "pycharm": {
     "name": "#%%\n"
    }
   },
   "outputs": [
    {
     "data": {
      "text/plain": "<torch._C.Generator at 0x1c3cd387ad0>"
     },
     "execution_count": 51,
     "metadata": {},
     "output_type": "execute_result"
    }
   ],
   "source": [
    "torch.manual_seed(0)"
   ]
  },
  {
   "cell_type": "code",
   "execution_count": 52,
   "metadata": {
    "pycharm": {
     "name": "#%%\n"
    }
   },
   "outputs": [],
   "source": [
    "net = nn.Sequential(\n",
    "    nn.Linear(X.size(1), 50),\n",
    "    nn.ReLU(),\n",
    "    nn.Linear(50, y.size(1)),\n",
    "    nn.Sigmoid(),\n",
    ")"
   ]
  },
  {
   "cell_type": "code",
   "execution_count": 53,
   "metadata": {
    "pycharm": {
     "name": "#%%\n"
    }
   },
   "outputs": [],
   "source": [
    "criterion = nn.BCELoss()\n",
    "optimizer = optim.Adam(net.parameters(), lr=0.005)"
   ]
  },
  {
   "cell_type": "code",
   "execution_count": 54,
   "metadata": {
    "pycharm": {
     "name": "#%%\n"
    }
   },
   "outputs": [],
   "source": [
    "epochs = 1000"
   ]
  },
  {
   "cell_type": "code",
   "execution_count": 55,
   "metadata": {
    "pycharm": {
     "name": "#%%\n"
    }
   },
   "outputs": [
    {
     "name": "stdout",
     "output_type": "stream",
     "text": [
      "Epoch [   0/1000]      loss = 10.10273, accuracy = 0.37258\n",
      "Epoch [ 200/1000]      loss = 0.17000, accuracy = 0.92970\n",
      "Epoch [ 400/1000]      loss = 0.12417, accuracy = 0.95079\n",
      "Epoch [ 600/1000]      loss = 0.09693, accuracy = 0.95782\n",
      "Epoch [ 800/1000]      loss = 0.08035, accuracy = 0.96134\n",
      "Epoch [1000/1000]      loss = 0.07003, accuracy = 0.97012\n"
     ]
    }
   ],
   "source": [
    "for epoch in range(epochs + 1):\n",
    "    optimizer.zero_grad()\n",
    "    y_pred = net(X)\n",
    "    loss = criterion(y_pred, y)\n",
    "    loss.backward()\n",
    "    optimizer.step()\n",
    "\n",
    "    if epoch % 200 == 0:\n",
    "        accuracy = metrics.accuracy_score(y, y_pred.round().detach().numpy())\n",
    "        print(f\"Epoch [{epoch:4}/{epochs}]{' ' * 6}loss = {loss:.5f}, accuracy = {accuracy:.5f}\")"
   ]
  },
  {
   "cell_type": "markdown",
   "metadata": {
    "id": "jQj0oVeLj2A1",
    "pycharm": {
     "name": "#%% md\n"
    }
   },
   "source": [
    "## 4. Datasets and dataloaders"
   ]
  },
  {
   "cell_type": "code",
   "execution_count": 56,
   "metadata": {
    "id": "c82tAkXMjajm",
    "pycharm": {
     "name": "#%%\n"
    }
   },
   "outputs": [],
   "source": [
    "from torch.utils.data import Dataset, DataLoader"
   ]
  },
  {
   "cell_type": "markdown",
   "metadata": {
    "id": "hoFPckkp8yhz",
    "pycharm": {
     "name": "#%% md\n"
    }
   },
   "source": [
    "4.1 Создать датасет, поставляющий данные из задачи 1.2. \n",
    "\n",
    "Создать `DataLoader` на основе этого датасета и проверить работоспособность.\n",
    "\n",
    "Воспользовавшись результатами 3.1 (или 3.2) обучите модель, пользуясь мини-пакетным градиентным спуском с размером пакета (`batch_size`) = 10"
   ]
  },
  {
   "cell_type": "code",
   "execution_count": 57,
   "metadata": {
    "pycharm": {
     "name": "#%%\n"
    }
   },
   "outputs": [],
   "source": [
    "xytensors = tuple[torch.Tensor, torch.Tensor]\n",
    "class SinDataset(Dataset):\n",
    "    def __init__(self):\n",
    "        self.data = torch.linspace(0, 1, 100).view(-1, 1)\n",
    "        self.target = torch.sin(2 * np.pi * self.data) + 0.1 * torch.rand(self.data.size())\n",
    "        \n",
    "    def __len__(self):\n",
    "        return len(self.target)\n",
    "\n",
    "    def __getitem__(self, idx) -> xytensors:\n",
    "        return self.data[idx], self.target[idx]"
   ]
  },
  {
   "cell_type": "code",
   "execution_count": 58,
   "metadata": {
    "pycharm": {
     "name": "#%%\n"
    }
   },
   "outputs": [],
   "source": [
    "sin_dataset = SinDataset()\n",
    "sin_dataloader = DataLoader(sin_dataset, batch_size=10)"
   ]
  },
  {
   "cell_type": "code",
   "execution_count": 59,
   "metadata": {
    "pycharm": {
     "name": "#%%\n"
    }
   },
   "outputs": [],
   "source": [
    "x, y = sin_dataset.data, sin_dataset.target"
   ]
  },
  {
   "cell_type": "code",
   "execution_count": 60,
   "metadata": {
    "pycharm": {
     "name": "#%%\n"
    }
   },
   "outputs": [],
   "source": [
    "net = nn.Sequential(\n",
    "    nn.Linear(x.size(1), 30),\n",
    "    nn.ReLU(),\n",
    "    nn.Linear(30, 100),\n",
    "    nn.ReLU(),\n",
    "    nn.Linear(100, y.size(1)),\n",
    ")"
   ]
  },
  {
   "cell_type": "code",
   "execution_count": 61,
   "metadata": {
    "pycharm": {
     "name": "#%%\n"
    }
   },
   "outputs": [],
   "source": [
    "criterion = nn.MSELoss()\n",
    "optimizer = optim.Adam(net.parameters(), lr=0.005)"
   ]
  },
  {
   "cell_type": "code",
   "execution_count": 62,
   "metadata": {
    "pycharm": {
     "name": "#%%\n"
    }
   },
   "outputs": [],
   "source": [
    "steps = len(sin_dataloader)\n",
    "epochs = 500"
   ]
  },
  {
   "cell_type": "code",
   "execution_count": 63,
   "metadata": {
    "pycharm": {
     "name": "#%%\n"
    }
   },
   "outputs": [
    {
     "name": "stdout",
     "output_type": "stream",
     "text": [
      "Epoch [  0/500], step [ 0/10]      loss = 0.16219, batch_size = 10\n",
      "Epoch [  0/500], step [ 5/10]      loss = 0.68401, batch_size = 10\n",
      "Epoch [100/500], step [ 0/10]      loss = 0.02070, batch_size = 10\n",
      "Epoch [100/500], step [ 5/10]      loss = 0.17524, batch_size = 10\n",
      "Epoch [200/500], step [ 0/10]      loss = 0.01118, batch_size = 10\n",
      "Epoch [200/500], step [ 5/10]      loss = 0.01712, batch_size = 10\n",
      "Epoch [300/500], step [ 0/10]      loss = 0.01117, batch_size = 10\n",
      "Epoch [300/500], step [ 5/10]      loss = 0.01166, batch_size = 10\n",
      "Epoch [400/500], step [ 0/10]      loss = 0.01308, batch_size = 10\n",
      "Epoch [400/500], step [ 5/10]      loss = 0.01136, batch_size = 10\n",
      "Epoch [500/500], step [ 0/10]      loss = 0.01096, batch_size = 10\n",
      "Epoch [500/500], step [ 5/10]      loss = 0.00877, batch_size = 10\n"
     ]
    }
   ],
   "source": [
    "for epoch in range(epochs + 1):\n",
    "    for i, (x_, y_) in enumerate(sin_dataloader):\n",
    "        optimizer.zero_grad()\n",
    "        y_pred = net(x_)\n",
    "        loss = criterion(y_pred, y_)\n",
    "        loss.backward()\n",
    "        optimizer.step()\n",
    "\n",
    "        if epoch % 100 == 0 and i % 5 == 0:\n",
    "            print(f\"Epoch [{epoch:3}/{epochs}], step [{i:2}/{steps}]\"\n",
    "                  f\"{' ' * 6}loss = {loss:.5f}, batch_size = {x_.size(0)}\")"
   ]
  },
  {
   "cell_type": "code",
   "execution_count": 64,
   "metadata": {
    "pycharm": {
     "name": "#%%\n"
    }
   },
   "outputs": [],
   "source": [
    "predicts = net(x)"
   ]
  },
  {
   "cell_type": "code",
   "execution_count": 65,
   "metadata": {
    "pycharm": {
     "name": "#%%\n"
    }
   },
   "outputs": [
    {
     "data": {
      "text/plain": "<Figure size 432x288 with 1 Axes>",
      "image/png": "[encoded data removed]"
     },
     "metadata": {
      "needs_background": "light"
     },
     "output_type": "display_data"
    }
   ],
   "source": [
    "_, ax = plt.subplots(1)\n",
    "ax.scatter(x, y, s=10)\n",
    "ax.plot(x, predicts.detach(), c='r', lw=2);"
   ]
  },
  {
   "cell_type": "markdown",
   "metadata": {
    "id": "bxz02a3k_VQL",
    "pycharm": {
     "name": "#%% md\n"
    }
   },
   "source": [
    "4.2 Предсказание цен алмазов\n",
    "\n",
    "4.2.1 Создайте датасет на основе файла diamonds.csv. \n",
    "\n",
    "1. Удалите все нечисловые столбцы\n",
    "2. Целевой столбец (`y`) - `price`\n",
    "3. Преобразуйте данные в тензоры корректных размеров\n",
    "\n",
    "4.2.2 Разбейте датасет на обучающий и тестовый датасет при помощи `torch.utils.data.random_split`.\n",
    "\n",
    "4.2.3 Обучите модель для предсказания цен при помощи мини-пакетного градиентного спуска (`batch_size = 256`). \n",
    "\n",
    "4.2.4 Выведите график функции потерь в зависимости от номера эпохи (значение потерь для эпохи рассчитывайте как среднее значение ошибок на каждом батче). Проверьте качество модели на тестовой выборке. \n"
   ]
  },
  {
   "cell_type": "code",
   "execution_count": 66,
   "metadata": {
    "id": "fEfTNJQI8emD",
    "pycharm": {
     "name": "#%%\n"
    }
   },
   "outputs": [],
   "source": [
    "class DiamondsDataset(Dataset):\n",
    "    features: torch.Tensor\n",
    "    labels: torch.Tensor\n",
    "\n",
    "    def __init__(self, data: pd.DataFrame):\n",
    "        data = data.select_dtypes(np.number)\n",
    "        features = data[data.columns.drop(\"price\")]\n",
    "        labels = data[[\"price\"]]\n",
    "\n",
    "        self.features = torch.from_numpy(features.to_numpy(dtype=np.float32))\n",
    "        self.labels = torch.from_numpy(labels.to_numpy(dtype=np.float32))\n",
    "\n",
    "    def __len__(self):\n",
    "        return len(self.labels)\n",
    "\n",
    "    def __getitem__(self, idx) -> xytensors:\n",
    "        return self.features[idx], self.labels[idx]"
   ]
  },
  {
   "cell_type": "code",
   "execution_count": 67,
   "metadata": {
    "pycharm": {
     "name": "#%%\n"
    }
   },
   "outputs": [
    {
     "data": {
      "text/plain": "(torch.Size([53940, 6]), torch.Size([53940, 1]))"
     },
     "execution_count": 67,
     "metadata": {},
     "output_type": "execute_result"
    }
   ],
   "source": [
    "import seaborn as sns\n",
    "diamonds_data = sns.load_dataset(\"diamonds\", data_home=\"data/\")\n",
    "dataset = DiamondsDataset(diamonds_data)\n",
    "dataset.features.size(), dataset.labels.size()"
   ]
  },
  {
   "cell_type": "code",
   "execution_count": 68,
   "metadata": {
    "pycharm": {
     "name": "#%%\n"
    }
   },
   "outputs": [],
   "source": [
    "#4.2.2\n",
    "from torch.utils.data import Dataset, random_split, Subset\n",
    "train_dataset: Subset\n",
    "test_dataset: Subset"
   ]
  },
  {
   "cell_type": "code",
   "execution_count": 69,
   "metadata": {
    "pycharm": {
     "name": "#%%\n"
    }
   },
   "outputs": [],
   "source": [
    "train_size = round(0.8 * len(dataset))\n",
    "train_dataset, test_dataset = random_split(dataset, lengths=(train_size, len(dataset) - train_size))"
   ]
  },
  {
   "cell_type": "code",
   "execution_count": 70,
   "metadata": {
    "pycharm": {
     "name": "#%%\n"
    }
   },
   "outputs": [],
   "source": [
    "#4.2.3\n",
    "net = nn.Sequential(\n",
    "    nn.Linear(dataset.features.size(1), 32),\n",
    "    nn.Dropout(0.25),\n",
    "    nn.ReLU(),\n",
    "    nn.Linear(32, 96),\n",
    "    nn.Dropout(0.5),\n",
    "    nn.ReLU(),\n",
    "    nn.Linear(96, 32),\n",
    "    nn.Dropout(0.25),\n",
    "    nn.ReLU(),\n",
    "    nn.Linear(32, dataset.labels.size(1)),\n",
    "    nn.ReLU(),\n",
    ")"
   ]
  },
  {
   "cell_type": "code",
   "execution_count": 71,
   "metadata": {
    "pycharm": {
     "name": "#%%\n"
    }
   },
   "outputs": [],
   "source": [
    "criterion = nn.MSELoss()\n",
    "optimizer = optim.Adam(net.parameters(), lr=0.001)"
   ]
  },
  {
   "cell_type": "code",
   "execution_count": 72,
   "metadata": {
    "pycharm": {
     "name": "#%%\n"
    }
   },
   "outputs": [],
   "source": [
    "net.train() \n",
    "train_loader = DataLoader(train_dataset, batch_size=256)\n",
    "steps = len(train_loader)\n",
    "epochs = 50\n",
    "losses = torch.empty(epochs + 1)"
   ]
  },
  {
   "cell_type": "code",
   "execution_count": 73,
   "metadata": {
    "pycharm": {
     "name": "#%%\n"
    }
   },
   "outputs": [
    {
     "name": "stdout",
     "output_type": "stream",
     "text": [
      "Epoch [   0/50], step [  0/169]      loss = 34302164.0000, R2 = -1.0451\n",
      "Epoch [   0/50], step [ 40/169]      loss = 23906998.0000, R2 = -0.8552\n",
      "Epoch [   0/50], step [ 80/169]      loss = 18768398.0000, R2 = -0.2886\n",
      "Epoch [   0/50], step [120/169]      loss = 18868960.0000, R2 = -0.0531\n",
      "Epoch [   0/50], step [160/169]      loss = 15403959.0000, R2 = -0.0055\n",
      "Epoch [  10/50], step [  0/169]      loss = 3371349.7500, R2 = 0.7990\n",
      "Epoch [  10/50], step [ 40/169]      loss = 2635488.0000, R2 = 0.7955\n",
      "Epoch [  10/50], step [ 80/169]      loss = 2107428.2500, R2 = 0.8553\n",
      "Epoch [  10/50], step [120/169]      loss = 11200106.0000, R2 = 0.3749\n",
      "Epoch [  10/50], step [160/169]      loss = 3159187.5000, R2 = 0.7938\n",
      "Epoch [  20/50], step [  0/169]      loss = 3234383.5000, R2 = 0.8072\n",
      "Epoch [  20/50], step [ 40/169]      loss = 2291109.0000, R2 = 0.8222\n",
      "Epoch [  20/50], step [ 80/169]      loss = 2619618.5000, R2 = 0.8201\n",
      "Epoch [  20/50], step [120/169]      loss = 6233256.5000, R2 = 0.6521\n",
      "Epoch [  20/50], step [160/169]      loss = 2771791.0000, R2 = 0.8191\n",
      "Epoch [  30/50], step [  0/169]      loss = 2829032.0000, R2 = 0.8313\n",
      "Epoch [  30/50], step [ 40/169]      loss = 2673927.5000, R2 = 0.7925\n",
      "Epoch [  30/50], step [ 80/169]      loss = 3799801.0000, R2 = 0.7391\n",
      "Epoch [  30/50], step [120/169]      loss = 7041213.5000, R2 = 0.6070\n",
      "Epoch [  30/50], step [160/169]      loss = 3011830.0000, R2 = 0.8034\n",
      "Epoch [  40/50], step [  0/169]      loss = 2712262.2500, R2 = 0.8383\n",
      "Epoch [  40/50], step [ 40/169]      loss = 2836202.0000, R2 = 0.7799\n",
      "Epoch [  40/50], step [ 80/169]      loss = 3488990.0000, R2 = 0.7604\n",
      "Epoch [  40/50], step [120/169]      loss = 4677204.5000, R2 = 0.7390\n",
      "Epoch [  40/50], step [160/169]      loss = 2912257.0000, R2 = 0.8099\n",
      "Epoch [  50/50], step [  0/169]      loss = 3364592.0000, R2 = 0.7994\n",
      "Epoch [  50/50], step [ 40/169]      loss = 2769221.0000, R2 = 0.7851\n",
      "Epoch [  50/50], step [ 80/169]      loss = 1923524.0000, R2 = 0.8679\n",
      "Epoch [  50/50], step [120/169]      loss = 4101446.5000, R2 = 0.7711\n",
      "Epoch [  50/50], step [160/169]      loss = 2268198.0000, R2 = 0.8519\n"
     ]
    }
   ],
   "source": [
    "for epoch in range(epochs + 1):\n",
    "    total_loss = 0\n",
    "    for i, (x_, y_) in enumerate(train_loader):\n",
    "        optimizer.zero_grad()\n",
    "        y_pred = net(x_)\n",
    "        loss = criterion(y_pred, y_)\n",
    "        loss.backward()\n",
    "        optimizer.step()\n",
    "        total_loss += loss\n",
    "        \n",
    "        if epoch % 10 == 0 and i % 40 == 0:\n",
    "            print(f\"Epoch [{epoch:4}/{epochs}], step [{i:3}/{steps}]\"\n",
    "                  f\"{' ' * 6}loss = {loss:.4f}, R2 = {metrics.r2_score(y_, y_pred.detach().numpy()):.4f}\")"
   ]
  },
  {
   "cell_type": "code",
   "execution_count": 74,
   "metadata": {
    "pycharm": {
     "name": "#%%\n"
    }
   },
   "outputs": [],
   "source": [
    "losses[epoch] = total_loss / steps"
   ]
  },
  {
   "cell_type": "code",
   "execution_count": 75,
   "metadata": {
    "pycharm": {
     "name": "#%%\n"
    }
   },
   "outputs": [
    {
     "data": {
      "text/plain": "<Figure size 432x288 with 1 Axes>",
      "image/png": "[encoded data removed]"
     },
     "metadata": {
      "needs_background": "light"
     },
     "output_type": "display_data"
    }
   ],
   "source": [
    "#4.2.4\n",
    "plt.plot(torch.arange(losses.size(0)), losses.detach().numpy());"
   ]
  },
  {
   "cell_type": "code",
   "execution_count": 76,
   "outputs": [
    {
     "name": "stdout",
     "output_type": "stream",
     "text": [
      "R2 (train): 0.8587321872955893\n",
      "R2 (test): 0.8593790734979534\n"
     ]
    }
   ],
   "source": [
    "net.eval()  # отключает Dropout'ы\n",
    "\n",
    "(X_train, y_train), (X_test, y_test) = train_dataset[:], test_dataset[:]\n",
    "print(f\"R2 (train): {metrics.r2_score(y_train, net(X_train).detach().numpy())}\")\n",
    "print(f\"R2 (test): {metrics.r2_score(y_test, net(X_test).detach().numpy())}\")"
   ],
   "metadata": {
    "collapsed": false,
    "pycharm": {
     "name": "#%%\n"
    }
   }
  },
  {
   "cell_type": "markdown",
   "metadata": {
    "id": "qE81cgQdGM7I",
    "pycharm": {
     "name": "#%% md\n"
    }
   },
   "source": [
    "4.3 Модифицируйте метод `__init__` датасета из 4.2 таким образом, чтобы он мог принимать параметр `transform: callable`. Реализуйте класс `DropColsTransform` для удаления нечисловых данных из массива. Реализуйте класс `ToTensorTransorm` для трансформации массива в тензор."
   ]
  },
  {
   "cell_type": "code",
   "execution_count": 77,
   "outputs": [],
   "source": [
    "import typing as t\n",
    "xytyping = tuple[t.Any, t.Any]"
   ],
   "metadata": {
    "collapsed": false,
    "pycharm": {
     "name": "#%%\n"
    }
   }
  },
  {
   "cell_type": "code",
   "execution_count": 78,
   "outputs": [
    {
     "ename": "TypeError",
     "evalue": "unsupported operand type(s) for |: '_CallableGenericAlias' and 'NoneType'",
     "output_type": "error",
     "traceback": [
      "\u001B[1;31m---------------------------------------------------------------------------\u001B[0m",
      "\u001B[1;31mTypeError\u001B[0m                                 Traceback (most recent call last)",
      "Input \u001B[1;32mIn [78]\u001B[0m, in \u001B[0;36m<cell line: 1>\u001B[1;34m()\u001B[0m\n\u001B[1;32m----> 1\u001B[0m \u001B[38;5;28;01mclass\u001B[39;00m \u001B[38;5;21;01mDiamondsDataset\u001B[39;00m(Dataset):\n\u001B[0;32m      2\u001B[0m     features: np\u001B[38;5;241m.\u001B[39mndarray\n\u001B[0;32m      3\u001B[0m     labels: np\u001B[38;5;241m.\u001B[39mndarray\n",
      "Input \u001B[1;32mIn [78]\u001B[0m, in \u001B[0;36mDiamondsDataset\u001B[1;34m()\u001B[0m\n\u001B[0;32m      2\u001B[0m features: np\u001B[38;5;241m.\u001B[39mndarray\n\u001B[0;32m      3\u001B[0m labels: np\u001B[38;5;241m.\u001B[39mndarray\n\u001B[1;32m----> 5\u001B[0m \u001B[38;5;28;01mdef\u001B[39;00m \u001B[38;5;21m__init__\u001B[39m(\u001B[38;5;28mself\u001B[39m, data: pd\u001B[38;5;241m.\u001B[39mDataFrame, transform: \u001B[43mt\u001B[49m\u001B[38;5;241;43m.\u001B[39;49m\u001B[43mCallable\u001B[49m\u001B[43m[\u001B[49m\u001B[43m[\u001B[49m\u001B[43mxytyping\u001B[49m\u001B[43m]\u001B[49m\u001B[43m,\u001B[49m\u001B[43m \u001B[49m\u001B[43mxytyping\u001B[49m\u001B[43m]\u001B[49m\u001B[43m \u001B[49m\u001B[38;5;241;43m|\u001B[39;49m\u001B[43m \u001B[49m\u001B[38;5;28;43;01mNone\u001B[39;49;00m \u001B[38;5;241m=\u001B[39m \u001B[38;5;28;01mNone\u001B[39;00m):\n\u001B[0;32m      6\u001B[0m     \u001B[38;5;28mself\u001B[39m\u001B[38;5;241m.\u001B[39mfeatures \u001B[38;5;241m=\u001B[39m data[data\u001B[38;5;241m.\u001B[39mcolumns\u001B[38;5;241m.\u001B[39mdrop(\u001B[38;5;124m\"\u001B[39m\u001B[38;5;124mprice\u001B[39m\u001B[38;5;124m\"\u001B[39m)]\u001B[38;5;241m.\u001B[39mto_numpy()\n\u001B[0;32m      7\u001B[0m     \u001B[38;5;28mself\u001B[39m\u001B[38;5;241m.\u001B[39mlabels \u001B[38;5;241m=\u001B[39m data[[\u001B[38;5;124m\"\u001B[39m\u001B[38;5;124mprice\u001B[39m\u001B[38;5;124m\"\u001B[39m]]\u001B[38;5;241m.\u001B[39mto_numpy()\n",
      "\u001B[1;31mTypeError\u001B[0m: unsupported operand type(s) for |: '_CallableGenericAlias' and 'NoneType'"
     ]
    }
   ],
   "source": [
    "class DiamondsDataset(Dataset):\n",
    "    features: np.ndarray\n",
    "    labels: np.ndarray\n",
    "\n",
    "    def __init__(self, data: pd.DataFrame, transform: t.Callable[[xytyping], xytyping] | None = None):\n",
    "        self.features = data[data.columns.drop(\"price\")].to_numpy()\n",
    "        self.labels = data[[\"price\"]].to_numpy()\n",
    "        self.transform = transform\n",
    "\n",
    "    def __len__(self):\n",
    "        return len(self.labels)\n",
    "\n",
    "    def __getitem__(self, idx) -> xytyping:\n",
    "        sample = self.features[idx], self.labels[idx]\n",
    "        if self.transform:\n",
    "            return self.transform(sample)\n",
    "        return sample"
   ],
   "metadata": {
    "collapsed": false,
    "pycharm": {
     "name": "#%%\n"
    }
   }
  },
  {
   "cell_type": "code",
   "execution_count": null,
   "outputs": [],
   "source": [
    "xynumpy = tuple[np.ndarray, np.ndarray]"
   ],
   "metadata": {
    "collapsed": false,
    "pycharm": {
     "name": "#%%\n"
    }
   }
  },
  {
   "cell_type": "code",
   "execution_count": null,
   "outputs": [],
   "source": [
    "class DropColsTransform:\n",
    "\n",
    "    def __init__(self, drop: list[int]):\n",
    "        self.drop = drop\n",
    "\n",
    "    def __call__(self, sample: xynumpy) -> xynumpy:\n",
    "        features, labels = sample\n",
    "        return np.delete(features, self.drop, axis=len(features.shape) - 1), labels"
   ],
   "metadata": {
    "collapsed": false,
    "pycharm": {
     "name": "#%%\n"
    }
   }
  },
  {
   "cell_type": "code",
   "execution_count": null,
   "metadata": {
    "id": "dZZ-OKrVHnY5",
    "pycharm": {
     "name": "#%%\n"
    }
   },
   "outputs": [],
   "source": [
    "class ToTensorTransform:\n",
    "  def __call__(self, sample):\n",
    "    x, y = sample\n",
    "    return x, y"
   ]
  },
  {
   "cell_type": "code",
   "execution_count": null,
   "outputs": [],
   "source": [
    "from torchvision import transforms\n",
    "\n",
    "drop = DropColsTransform(drop=[1, 2, 3])\n",
    "to_tensor = ToTensorTransform()\n",
    "dataset = DiamondsDataset(data, transforms.compose([drop, to_tensor]))"
   ],
   "metadata": {
    "collapsed": false,
    "pycharm": {
     "name": "#%%\n"
    }
   }
  },
  {
   "cell_type": "code",
   "execution_count": null,
   "outputs": [],
   "source": [],
   "metadata": {
    "collapsed": false,
    "pycharm": {
     "name": "#%%\n"
    }
   }
  }
 ],
 "metadata": {
  "colab": {
   "collapsed_sections": [],
   "name": "blank_03_autograd_optim_nn_datasets.ipynb",
   "provenance": []
  },
  "kernelspec": {
   "display_name": "Python 3 (ipykernel)",
   "language": "python",
   "name": "python3"
  },
  "language_info": {
   "codemirror_mode": {
    "name": "ipython",
    "version": 3
   },
   "file_extension": ".py",
   "mimetype": "text/x-python",
   "name": "python",
   "nbconvert_exporter": "python",
   "pygments_lexer": "ipython3",
   "version": "3.9.7"
  }
 },
 "nbformat": 4,
 "nbformat_minor": 1
}