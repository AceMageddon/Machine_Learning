{
 "cells": [
  {
   "cell_type": "markdown",
   "metadata": {
    "id": "_gE94V3G1RCx",
    "pycharm": {
     "name": "#%% md\n"
    }
   },
   "source": [
    "# 01. Знакомство с `torch.Tensor`"
   ]
  },
  {
   "cell_type": "markdown",
   "metadata": {
    "id": "TlWOXn0f1RC7",
    "pycharm": {
     "name": "#%% md\n"
    }
   },
   "source": [
    "---"
   ]
  },
  {
   "cell_type": "markdown",
   "metadata": {
    "id": "lZfJ1FRM1RC8",
    "pycharm": {
     "name": "#%% md\n"
    }
   },
   "source": [
    "При решении данных задач не подразумевается использования циклов или генераторов Python, если в задании не сказано обратного. Решение должно опираться на использование функционала библиотеки `torch`.\n",
    "\n",
    "[PyTorch documentation](https://pytorch.org/docs/stable/#pytorch-documentation)"
   ]
  },
  {
   "cell_type": "code",
   "execution_count": 1,
   "metadata": {
    "id": "b3AW8rF-1RC9",
    "pycharm": {
     "name": "#%%\n"
    }
   },
   "outputs": [],
   "source": [
    "import torch"
   ]
  },
  {
   "cell_type": "markdown",
   "metadata": {
    "id": "vow49PuE1RC9",
    "pycharm": {
     "name": "#%% md\n"
    }
   },
   "source": [
    "## 1.1 Создание тензоров и выполнение базовых операций над ними\n",
    "\n",
    "[Документация по функциям для создания тензоров](https://pytorch.org/docs/stable/torch.html#creation-ops)\n",
    "\n",
    "[Документация по функциям для работы с индексами](https://pytorch.org/docs/stable/torch.html#indexing-slicing-joining-mutating-ops)"
   ]
  },
  {
   "cell_type": "markdown",
   "metadata": {
    "id": "wBIwO1SB1RC-",
    "pycharm": {
     "name": "#%% md\n"
    }
   },
   "source": [
    "1.1.1 Создайте двумерный тензор размера (8, 8). Используя как можно меньше операций, добейтесь расстановки кодов \"шахматных фигур\".\n",
    "\n",
    "Ожидаемый результат:\n",
    "\n",
    "```\n",
    "[[-4., -3., -2., -6., -5., -2., -3., -4.],\n",
    " [-1., -1., -1., -1., -1., -1., -1., -1.],\n",
    " [0., 0., 0., 0., 0., 0., 0., 0.],\n",
    " [0., 0., 0., 0., 0., 0., 0., 0.],\n",
    " [0., 0., 0., 0., 0., 0., 0., 0.],\n",
    " [0., 0., 0., 0., 0., 0., 0., 0.],\n",
    " [1., 1., 1., 1., 1., 1., 1., 1.],\n",
    " [4., 3., 2., 6., 5., 2., 3., 4.]]\n",
    "\n",
    "```"
   ]
  },
  {
   "cell_type": "code",
   "execution_count": 2,
   "metadata": {
    "collapsed": false,
    "pycharm": {
     "name": "#%%\n"
    }
   },
   "outputs": [
    {
     "data": {
      "text/plain": "tensor([[-4., -3., -2., -6., -5., -2., -3., -4.],\n        [ 1.,  1.,  1.,  1.,  1.,  1.,  1.,  1.],\n        [ 0.,  0.,  0.,  0.,  0.,  0.,  0.,  0.],\n        [ 0.,  0.,  0.,  0.,  0.,  0.,  0.,  0.],\n        [ 0.,  0.,  0.,  0.,  0.,  0.,  0.,  0.],\n        [ 0.,  0.,  0.,  0.,  0.,  0.,  0.,  0.],\n        [ 1.,  1.,  1.,  1.,  1.,  1.,  1.,  1.],\n        [ 4.,  3.,  2.,  6.,  5.,  2.,  3.,  4.]])"
     },
     "execution_count": 2,
     "metadata": {},
     "output_type": "execute_result"
    }
   ],
   "source": [
    "tens = torch.zeros((8, 8))\n",
    "tens[[1, -2]] = torch.ones(8)\n",
    "tens[[0, -1]] = torch.tensor([4., 3., 2., 6., 5., 2., 3., 4.])\n",
    "tens[0] *= -1\n",
    "tens"
   ]
  },
  {
   "cell_type": "markdown",
   "metadata": {
    "id": "20x5RE1V1RC_",
    "pycharm": {
     "name": "#%% md\n"
    }
   },
   "source": [
    "1.1.2 Средствами `torch` рассчитать произведения четных чисел от 2 до 20 на ближайшие к ним бОльшие нечетные числа."
   ]
  },
  {
   "cell_type": "code",
   "execution_count": 3,
   "metadata": {
    "collapsed": false,
    "pycharm": {
     "name": "#%%\n"
    }
   },
   "outputs": [
    {
     "data": {
      "text/plain": "tensor([  6,  20,  42,  72, 110, 156, 210, 272, 342, 420])"
     },
     "execution_count": 3,
     "metadata": {},
     "output_type": "execute_result"
    }
   ],
   "source": [
    "tens = torch.arange(2, 20 + 1, 2) * torch.arange(3, 22, 2)\n",
    "tens"
   ]
  },
  {
   "cell_type": "markdown",
   "metadata": {
    "id": "N_-t5GRM1RC_",
    "pycharm": {
     "name": "#%% md\n"
    }
   },
   "source": [
    "1.1.3 Создать тензор размера 11x7 вида: [[1, 2, 3, ..., 7], [11, 12, 13, ..., 17], [21, 22, 23, ..., 27], ..., [101, 102, 103, ..., 107]]"
   ]
  },
  {
   "cell_type": "code",
   "execution_count": 4,
   "metadata": {
    "collapsed": false,
    "pycharm": {
     "name": "#%%\n"
    }
   },
   "outputs": [],
   "source": [
    "x = 11\n",
    "y = 7"
   ]
  },
  {
   "cell_type": "code",
   "execution_count": 5,
   "outputs": [
    {
     "data": {
      "text/plain": "tensor([[ 1,  2,  3,  4,  5,  6,  7,  8,  9, 10, 11],\n        [11, 12, 13, 14, 15, 16, 17, 18, 19, 20, 21],\n        [21, 22, 23, 24, 25, 26, 27, 28, 29, 30, 31],\n        [31, 32, 33, 34, 35, 36, 37, 38, 39, 40, 41],\n        [41, 42, 43, 44, 45, 46, 47, 48, 49, 50, 51],\n        [51, 52, 53, 54, 55, 56, 57, 58, 59, 60, 61],\n        [61, 62, 63, 64, 65, 66, 67, 68, 69, 70, 71]])"
     },
     "execution_count": 5,
     "metadata": {},
     "output_type": "execute_result"
    }
   ],
   "source": [
    "tens = torch.arange(1, x + 1) + torch.arange(0, (y-1) * 10 + 1  , 10).reshape(-1, 1)\n",
    "tens"
   ],
   "metadata": {
    "collapsed": false,
    "pycharm": {
     "name": "#%%\n"
    }
   }
  },
  {
   "cell_type": "markdown",
   "metadata": {
    "id": "oxVeUiHR1RC_",
    "pycharm": {
     "name": "#%% md\n"
    }
   },
   "source": [
    "1.1.4 Написать функцию, которая для целых значений `n` и `m` будет возвращать тензор размера `n`x`m`, заполненный текстурой размера 2x2, состоящей из следующих значений:\n",
    "\n",
    "```\n",
    "0 1\n",
    "\n",
    "2 3\n",
    "\n",
    "```\n",
    "\n",
    "Пример для n = 4 и m = 5:\n",
    "\n",
    "```\n",
    "0 1 0 1 0\n",
    "\n",
    "2 3 2 3 2\n",
    "\n",
    "0 1 0 1 0\n",
    "\n",
    "2 3 2 3 2\n",
    "```"
   ]
  },
  {
   "cell_type": "code",
   "execution_count": 6,
   "metadata": {
    "pycharm": {
     "name": "#%%\n"
    }
   },
   "outputs": [],
   "source": [
    "texture = torch.tensor([[0, 1], [2, 3]])\n",
    "rows, cols = texture.shape"
   ]
  },
  {
   "cell_type": "code",
   "execution_count": 7,
   "outputs": [],
   "source": [
    "def func(n, m):\n",
    "    nd = n // rows\n",
    "    md = m // cols\n",
    "    r = torch.zeros(n, m)\n",
    "\n",
    "    drows = nd * rows\n",
    "    dcols = md * cols\n",
    "    n_to_add = n % rows\n",
    "    m_to_add = m % cols\n",
    "\n",
    "    r[:drows, :dcols] = texture.repeat((nd, md))\n",
    "    r[drows:, :dcols] = texture[:n_to_add].repeat((1, md))\n",
    "    r[:drows, dcols:] = texture[:, :m_to_add].repeat((nd, 1))\n",
    "    r[drows:, dcols:] = texture[:n_to_add, :m_to_add]\n",
    "    return r"
   ],
   "metadata": {
    "collapsed": false,
    "pycharm": {
     "name": "#%%\n"
    }
   }
  },
  {
   "cell_type": "code",
   "execution_count": 8,
   "outputs": [
    {
     "data": {
      "text/plain": "tensor([[0., 1., 0., 1., 0.],\n        [2., 3., 2., 3., 2.],\n        [0., 1., 0., 1., 0.],\n        [2., 3., 2., 3., 2.]])"
     },
     "execution_count": 8,
     "metadata": {},
     "output_type": "execute_result"
    }
   ],
   "source": [
    "func(4, 5)"
   ],
   "metadata": {
    "collapsed": false,
    "pycharm": {
     "name": "#%%\n"
    }
   }
  },
  {
   "cell_type": "markdown",
   "metadata": {
    "id": "WH9hxJse1RDA",
    "pycharm": {
     "name": "#%% md\n"
    }
   },
   "source": [
    "1.1.5 Сгенерировать двумерный тензор `t` размерности (4, 7), состоящий из случайных действительных чисел, равномерно распределенных в дипазоне от 0 до 20. Нормализовать значения массива с помощью преобразования вида $ax+b$ так, что после нормализации максимальный элемент масива будет равен 1.0, минимальный 0.0"
   ]
  },
  {
   "cell_type": "markdown",
   "metadata": {
    "id": "vPqIeewXB-mM",
    "pycharm": {
     "name": "#%% md\n"
    }
   },
   "source": [
    "[Random Sampling](https://pytorch.org/docs/stable/torch.html#random-sampling)\n",
    "\n",
    "[Distributions](https://pytorch.org/docs/stable/distributions.html)"
   ]
  },
  {
   "cell_type": "code",
   "execution_count": 9,
   "metadata": {
    "collapsed": false,
    "pycharm": {
     "name": "#%%\n"
    }
   },
   "outputs": [],
   "source": [
    "sampler = torch.distributions.Uniform(0, 20)"
   ]
  },
  {
   "cell_type": "code",
   "execution_count": 10,
   "outputs": [
    {
     "data": {
      "text/plain": "tensor([[0.3810, 1.0000, 0.2613, 0.0000, 0.5032, 0.6142, 0.8816],\n        [0.8195, 0.8907, 0.0495, 0.0898, 0.1589, 0.9627, 0.8733],\n        [0.7897, 0.5219, 0.1880, 0.5054, 0.7431, 0.9405, 0.3756],\n        [0.0252, 0.5734, 0.5635, 0.3582, 0.7598, 0.0619, 0.2401]])"
     },
     "execution_count": 10,
     "metadata": {},
     "output_type": "execute_result"
    }
   ],
   "source": [
    "x = sampler.sample((4, 7))\n",
    "minimum, maximum = x.aminmax()\n",
    "tens = (x - minimum) / (maximum - minimum)\n",
    "tens"
   ],
   "metadata": {
    "collapsed": false,
    "pycharm": {
     "name": "#%%\n"
    }
   }
  },
  {
   "cell_type": "markdown",
   "metadata": {
    "id": "K_R6cwq11RDE",
    "pycharm": {
     "name": "#%% md\n"
    }
   },
   "source": [
    "1.1.6 Задать два двумерных тензора `ar1` и `ar2` размерности (4, 7), состоящих из случайных целых чисел в пределах от 0 до 10. Построить двумерный тензор размерности (4, 7), каждый элемент которого представляет собой максимум из двух значений, находящихся на аналогичной позиции в массивах `ar1`, `ar2`.\n",
    "\n",
    "[Reductions ops](https://pytorch.org/docs/stable/torch.html#reduction-ops)"
   ]
  },
  {
   "cell_type": "code",
   "execution_count": 11,
   "metadata": {
    "collapsed": false,
    "pycharm": {
     "name": "#%%\n"
    }
   },
   "outputs": [],
   "source": [
    "n, m = 4, 7"
   ]
  },
  {
   "cell_type": "code",
   "execution_count": 12,
   "outputs": [
    {
     "data": {
      "text/plain": "tensor([[[9, 9, 4, 0, 9, 8, 1],\n         [6, 7, 7, 4, 4, 2, 3],\n         [6, 1, 7, 2, 4, 3, 9],\n         [8, 5, 1, 2, 7, 4, 1]],\n\n        [[3, 5, 1, 3, 9, 7, 0],\n         [8, 0, 6, 1, 4, 6, 4],\n         [8, 8, 0, 5, 5, 5, 7],\n         [2, 5, 8, 6, 5, 3, 2]]])"
     },
     "execution_count": 12,
     "metadata": {},
     "output_type": "execute_result"
    }
   ],
   "source": [
    "ar1= torch.randint(0, 10, (2, n, m))\n",
    "ar1"
   ],
   "metadata": {
    "collapsed": false,
    "pycharm": {
     "name": "#%%\n"
    }
   }
  },
  {
   "cell_type": "code",
   "execution_count": 13,
   "metadata": {
    "collapsed": false,
    "pycharm": {
     "name": "#%%\n"
    }
   },
   "outputs": [
    {
     "data": {
      "text/plain": "tensor([[[9, 2, 9, 0, 2, 0, 7],\n         [8, 7, 1, 4, 3, 7, 8],\n         [3, 0, 3, 3, 6, 1, 7],\n         [5, 6, 4, 1, 7, 0, 1]],\n\n        [[7, 7, 5, 2, 8, 3, 3],\n         [0, 6, 7, 5, 6, 0, 6],\n         [9, 0, 5, 2, 5, 5, 4],\n         [5, 6, 2, 8, 3, 8, 0]]])"
     },
     "execution_count": 13,
     "metadata": {},
     "output_type": "execute_result"
    }
   ],
   "source": [
    "ar2= torch.randint(0, 10, (2, n, m))\n",
    "ar2"
   ]
  },
  {
   "cell_type": "code",
   "execution_count": 14,
   "metadata": {
    "pycharm": {
     "name": "#%%\n"
    }
   },
   "outputs": [
    {
     "data": {
      "text/plain": "tensor([[[9, 9, 9, 0, 9, 8, 7],\n         [8, 7, 7, 4, 4, 7, 8],\n         [6, 1, 7, 3, 6, 3, 9],\n         [8, 6, 4, 2, 7, 4, 1]],\n\n        [[7, 7, 5, 3, 9, 7, 3],\n         [8, 6, 7, 5, 6, 6, 6],\n         [9, 8, 5, 5, 5, 5, 7],\n         [5, 6, 8, 8, 5, 8, 2]]])"
     },
     "execution_count": 14,
     "metadata": {},
     "output_type": "execute_result"
    }
   ],
   "source": [
    "tens = torch.maximum(ar1, ar2)\n",
    "tens"
   ]
  },
  {
   "cell_type": "markdown",
   "metadata": {
    "id": "x6zmMhyKBPWQ",
    "pycharm": {
     "name": "#%% md\n"
    }
   },
   "source": [
    "1.1.7 Создать тензор из 20 случайных целых чисел от 0 до 100. Получить второе сверху значение в тензоре. Определить индекс этого значения."
   ]
  },
  {
   "cell_type": "code",
   "execution_count": 15,
   "metadata": {
    "collapsed": false,
    "pycharm": {
     "name": "#%%\n"
    }
   },
   "outputs": [],
   "source": [
    "tens = torch.randint(0, 101, (20,))\n",
    "x, y = tens.topk(2)"
   ]
  },
  {
   "cell_type": "code",
   "execution_count": 16,
   "outputs": [
    {
     "data": {
      "text/plain": "tensor([66,  2, 45, 64,  7, 68, 67, 80, 97, 14,  5, 51, 48, 25, 25, 99, 15, 20,\n        97, 60])"
     },
     "execution_count": 16,
     "metadata": {},
     "output_type": "execute_result"
    }
   ],
   "source": [
    "tens"
   ],
   "metadata": {
    "collapsed": false,
    "pycharm": {
     "name": "#%%\n"
    }
   }
  },
  {
   "cell_type": "code",
   "execution_count": 17,
   "outputs": [
    {
     "data": {
      "text/plain": "97"
     },
     "execution_count": 17,
     "metadata": {},
     "output_type": "execute_result"
    }
   ],
   "source": [
    "x[1].item()"
   ],
   "metadata": {
    "collapsed": false,
    "pycharm": {
     "name": "#%%\n"
    }
   }
  },
  {
   "cell_type": "code",
   "execution_count": 18,
   "outputs": [
    {
     "data": {
      "text/plain": "8"
     },
     "execution_count": 18,
     "metadata": {},
     "output_type": "execute_result"
    }
   ],
   "source": [
    "y[1].item()"
   ],
   "metadata": {
    "collapsed": false,
    "pycharm": {
     "name": "#%%\n"
    }
   }
  },
  {
   "cell_type": "markdown",
   "metadata": {
    "id": "Xshsy8fD1RDE",
    "pycharm": {
     "name": "#%% md\n"
    }
   },
   "source": [
    "## 1.2 Распространение"
   ]
  },
  {
   "cell_type": "markdown",
   "metadata": {
    "id": "jlP22HAJCo28",
    "pycharm": {
     "name": "#%% md\n"
    }
   },
   "source": [
    "[Numpy broadcasting](https://numpy.org/devdocs/user/theory.broadcasting.html)\n",
    "\n",
    "[Torch broadcasting](https://pytorch.org/docs/stable/notes/broadcasting.html)"
   ]
  },
  {
   "cell_type": "markdown",
   "metadata": {
    "id": "uRD6-8Gd1RDF",
    "pycharm": {
     "name": "#%% md\n"
    }
   },
   "source": [
    "1.2.1 Создать тензор 11x7 вида: `[[1, 2, 3, ..., 7], [11, 12, 13, ..., 17], [21, 22, 23, ..., 27], ..., [101, 102, 103, ..., 107]]`. При решении задачи применить технику распространения."
   ]
  },
  {
   "cell_type": "code",
   "execution_count": 19,
   "metadata": {
    "collapsed": false,
    "pycharm": {
     "name": "#%%\n"
    }
   },
   "outputs": [
    {
     "data": {
      "text/plain": "tensor([[  1,   2,   3,   4,   5,   6,   7],\n        [ 11,  12,  13,  14,  15,  16,  17],\n        [ 21,  22,  23,  24,  25,  26,  27],\n        [ 31,  32,  33,  34,  35,  36,  37],\n        [ 41,  42,  43,  44,  45,  46,  47],\n        [ 51,  52,  53,  54,  55,  56,  57],\n        [ 61,  62,  63,  64,  65,  66,  67],\n        [ 71,  72,  73,  74,  75,  76,  77],\n        [ 81,  82,  83,  84,  85,  86,  87],\n        [ 91,  92,  93,  94,  95,  96,  97],\n        [101, 102, 103, 104, 105, 106, 107]])"
     },
     "execution_count": 19,
     "metadata": {},
     "output_type": "execute_result"
    }
   ],
   "source": [
    "n = 11\n",
    "m = 7\n",
    "tens = torch.arange(1, m + 1) + torch.arange(0, (n-1)*10+1  , 10).reshape(-1, 1)\n",
    "tens"
   ]
  },
  {
   "cell_type": "markdown",
   "metadata": {
    "id": "iSY9Iday1RDF",
    "pycharm": {
     "name": "#%% md\n"
    }
   },
   "source": [
    "1.2.2 Вычесть одномерный тензор `b_1d` из двухмерного тензора `a_2d`, так, чтобы каждый элемент одномерного тензора вычитался из всех элементов соответствующих строк двумерного тензора.\n",
    "\n",
    "_Пример:_\n",
    "\n",
    "Для входа:\n",
    "```python\n",
    "a_2d = np.array([[3,3,3],[4,4,4],[5,5,5]])\n",
    "b_1d = np.array([1,2,3])\n",
    "```\n",
    "\n",
    "Ожидается резульат:\n",
    "\n",
    "```python\n",
    "[[2 2 2]\n",
    " [2 2 2]\n",
    " [2 2 2]]\n",
    "```"
   ]
  },
  {
   "cell_type": "code",
   "execution_count": 20,
   "metadata": {
    "collapsed": false,
    "pycharm": {
     "name": "#%%\n"
    }
   },
   "outputs": [
    {
     "data": {
      "text/plain": "tensor([[2, 2, 2],\n        [2, 2, 2],\n        [2, 2, 2]])"
     },
     "execution_count": 20,
     "metadata": {},
     "output_type": "execute_result"
    }
   ],
   "source": [
    "a_2d = torch.tensor([[3,3,3],[4,4,4],[5,5,5]])\n",
    "b_1d = torch.tensor([1,2,3])\n",
    "tens = a_2d - b_1d.reshape(-1, 1)\n",
    "tens"
   ]
  },
  {
   "cell_type": "markdown",
   "metadata": {
    "id": "dFTvPsY91RDF",
    "pycharm": {
     "name": "#%% md\n"
    }
   },
   "source": [
    "## 1.3 Индексы, маскирование и прихотливое индексирование\n",
    "\n",
    "[Документация по функциям для работы с индексами](https://pytorch.org/docs/stable/torch.html#indexing-slicing-joining-mutating-ops)"
   ]
  },
  {
   "cell_type": "markdown",
   "metadata": {
    "id": "McYtDYhH1RDG",
    "pycharm": {
     "name": "#%% md\n"
    }
   },
   "source": [
    "1.3.1 Получить индексы, для которых элементы тензоров `a` и `b` совпадают.\n",
    "\n",
    "_Пример:_\n",
    "\n",
    "Для входа:\n",
    "```python\n",
    "a = np.array([1,2,3,2,3,4,3,4,5,6])\n",
    "b = np.array([7,2,10,2,7,4,9,4,9,8])\n",
    "```\n",
    "\n",
    "Ожидается резульат:\n",
    "\n",
    "```python\n",
    "array([1, 3, 5, 7])\n",
    "```"
   ]
  },
  {
   "cell_type": "code",
   "execution_count": 21,
   "metadata": {
    "collapsed": false,
    "pycharm": {
     "name": "#%%\n"
    }
   },
   "outputs": [
    {
     "data": {
      "text/plain": "tensor([1, 3, 5, 7])"
     },
     "execution_count": 21,
     "metadata": {},
     "output_type": "execute_result"
    }
   ],
   "source": [
    "import numpy as np\n",
    "a = torch.tensor([1,2,3,2,3,4,3,4,5,6])\n",
    "b = torch.tensor([7,2,10,2,7,4,9,4,9,8])\n",
    "tens = torch.argwhere(a==b).view(-1)\n",
    "tens"
   ]
  },
  {
   "cell_type": "markdown",
   "metadata": {
    "id": "MnBq3nfy1RDG",
    "pycharm": {
     "name": "#%% md\n"
    }
   },
   "source": [
    "1.3.2 Инвертировать порядок элементов в двумерном тензоре `torch.arange(9).view(3,3)`.\n",
    "\n",
    "Ожидаемый результат:\n",
    "\n",
    "\n",
    "```python\n",
    "array([[8, 7, 6],\n",
    "       [5, 4, 3],\n",
    "       [2, 1, 0]])\n",
    "```"
   ]
  },
  {
   "cell_type": "code",
   "execution_count": 22,
   "metadata": {
    "collapsed": false,
    "pycharm": {
     "name": "#%%\n"
    }
   },
   "outputs": [
    {
     "data": {
      "text/plain": "tensor([[8, 7, 6],\n        [5, 4, 3],\n        [2, 1, 0]])"
     },
     "execution_count": 22,
     "metadata": {},
     "output_type": "execute_result"
    }
   ],
   "source": [
    "tens = torch.flip(torch.arange(9).view(3,3), dims=(0,1))\n",
    "tens"
   ]
  },
  {
   "cell_type": "markdown",
   "metadata": {
    "id": "tANsLnOC1RDH",
    "pycharm": {
     "name": "#%% md\n"
    }
   },
   "source": [
    "1.3.3 Из входного тензора a получить только элементы, находящиеся в диапазоне от 5 до 10.\n",
    "\n",
    "_Пример:_\n",
    "\n",
    "Для входа:\n",
    "```python\n",
    "a = np.array([2, 6, 1, 9, 10, 3, 27])\n",
    "```\n",
    "\n",
    "Ожидается резульат:\n",
    "\n",
    "```python\n",
    "array([6, 9, 10])\n",
    "```"
   ]
  },
  {
   "cell_type": "code",
   "execution_count": 23,
   "metadata": {
    "collapsed": false,
    "pycharm": {
     "name": "#%%\n"
    }
   },
   "outputs": [
    {
     "data": {
      "text/plain": "tensor([ 6,  9, 10])"
     },
     "execution_count": 23,
     "metadata": {},
     "output_type": "execute_result"
    }
   ],
   "source": [
    "a = torch.tensor([2, 6, 1, 9, 10, 3, 27])\n",
    "tens = a[(a >= 5) & (a <= 10)]\n",
    "tens"
   ]
  },
  {
   "cell_type": "markdown",
   "metadata": {
    "id": "3vlK0gV21RDH",
    "pycharm": {
     "name": "#%% md\n"
    }
   },
   "source": [
    "1.3.4 Поменять местами столбец 1 и 2 тензора `np.arange(9).reshape(3,3)`"
   ]
  },
  {
   "cell_type": "code",
   "execution_count": 24,
   "metadata": {
    "collapsed": false,
    "pycharm": {
     "name": "#%%\n"
    }
   },
   "outputs": [
    {
     "data": {
      "text/plain": "tensor([[0, 1, 2],\n        [3, 4, 5],\n        [6, 7, 8]])"
     },
     "execution_count": 24,
     "metadata": {},
     "output_type": "execute_result"
    }
   ],
   "source": [
    "tens = torch.arange(9).reshape(3,3)\n",
    "tens"
   ]
  },
  {
   "cell_type": "code",
   "execution_count": 25,
   "metadata": {
    "collapsed": false,
    "pycharm": {
     "name": "#%%\n"
    }
   },
   "outputs": [
    {
     "data": {
      "text/plain": "tensor([[1, 0, 2],\n        [4, 3, 5],\n        [7, 6, 8]])"
     },
     "execution_count": 25,
     "metadata": {},
     "output_type": "execute_result"
    }
   ],
   "source": [
    "tens[:,[0, 1]] = tens[:,[1, 0]]\n",
    "tens"
   ]
  },
  {
   "cell_type": "markdown",
   "metadata": {
    "id": "cheFtWhU1RDH",
    "pycharm": {
     "name": "#%% md\n"
    }
   },
   "source": [
    "1.3.5 Создать тензор 8 на 10 из случайных целых чисел из диапазона от 0 до 10 и найти в ней строку (ее индекс и вывести саму строку), в которой сумма значений минимальна."
   ]
  },
  {
   "cell_type": "code",
   "execution_count": 26,
   "metadata": {
    "collapsed": false,
    "pycharm": {
     "name": "#%%\n"
    }
   },
   "outputs": [
    {
     "data": {
      "text/plain": "tensor([[9, 1, 9, 5, 5, 5, 3, 8, 8, 4],\n        [1, 5, 7, 8, 3, 7, 8, 8, 3, 5],\n        [3, 9, 4, 0, 9, 4, 5, 0, 7, 1],\n        [8, 4, 8, 4, 9, 4, 5, 2, 4, 8],\n        [0, 5, 1, 5, 1, 5, 0, 8, 1, 9],\n        [8, 7, 9, 0, 4, 8, 2, 3, 2, 0],\n        [7, 4, 1, 0, 4, 0, 9, 0, 4, 1],\n        [0, 7, 5, 6, 5, 9, 4, 2, 8, 1]])"
     },
     "execution_count": 26,
     "metadata": {},
     "output_type": "execute_result"
    }
   ],
   "source": [
    "tens = torch.randint(0, 10, (8, 10))\n",
    "tens"
   ]
  },
  {
   "cell_type": "code",
   "execution_count": 27,
   "metadata": {
    "collapsed": false,
    "pycharm": {
     "name": "#%%\n"
    }
   },
   "outputs": [
    {
     "data": {
      "text/plain": "(6, tensor([7, 4, 1, 0, 4, 0, 9, 0, 4, 1]))"
     },
     "execution_count": 27,
     "metadata": {},
     "output_type": "execute_result"
    }
   ],
   "source": [
    "mini = tens.sum(dim=1).argmin()\n",
    "mini.item(), tens[mini]"
   ]
  },
  {
   "cell_type": "markdown",
   "metadata": {
    "id": "grOCNU4XFE2B",
    "pycharm": {
     "name": "#%% md\n"
    }
   },
   "source": [
    "1.3.6 Cоздать тензор из 20 случайных целых чисел от 0 до 100. Обрезать значения тензора (заменить значения, выходящие за диапазон, на крайние значения) снизу по значению 30, сверху по значению 70."
   ]
  },
  {
   "cell_type": "code",
   "execution_count": 28,
   "metadata": {
    "collapsed": false,
    "pycharm": {
     "name": "#%%\n"
    }
   },
   "outputs": [
    {
     "data": {
      "text/plain": "tensor([55, 46, 47, 60, 50, 70, 38, 30, 35, 31, 30, 54, 30, 36, 70, 30, 30, 36,\n        30, 32])"
     },
     "execution_count": 28,
     "metadata": {},
     "output_type": "execute_result"
    }
   ],
   "source": [
    "tens = torch.randint(0, 100, (20,))\n",
    "tens[tens < 30] = 30\n",
    "tens[tens > 70] = 70\n",
    "tens"
   ]
  },
  {
   "cell_type": "markdown",
   "metadata": {
    "id": "HNfQjY8P1RDI",
    "pycharm": {
     "name": "#%% md\n"
    }
   },
   "source": [
    "1.3.7 Создать два тензора размера 30 на 3 из случайных целых чисел из диапазона от 0 до 10 и найти все значения первого тензора, которые больше соответсвующих (по расположению) значений второго тензора. Подсчитать сумму этих значений."
   ]
  },
  {
   "cell_type": "code",
   "execution_count": 29,
   "metadata": {
    "collapsed": false,
    "pycharm": {
     "name": "#%%\n"
    }
   },
   "outputs": [
    {
     "data": {
      "text/plain": "565"
     },
     "execution_count": 29,
     "metadata": {},
     "output_type": "execute_result"
    }
   ],
   "source": [
    "ar1 = torch.randint(0, 10, (2, 30, 3))\n",
    "ar2 = torch.randint(0, 10, (2, 30, 3))\n",
    "(ar1[ar1 > ar2]).sum().item()"
   ]
  },
  {
   "cell_type": "markdown",
   "metadata": {
    "id": "doBCxYJA1RDI",
    "pycharm": {
     "name": "#%% md\n"
    }
   },
   "source": [
    "1.3.8 При помощи прихотливого индексирования для двухмерного массива размерности (20, 20), состоящего из случайных целых чисел в пределах от 0 до 10 получить массив элементов находящихся на диагонали, проходящей над основной диагональю."
   ]
  },
  {
   "cell_type": "code",
   "execution_count": 30,
   "metadata": {
    "collapsed": false,
    "pycharm": {
     "name": "#%%\n"
    }
   },
   "outputs": [
    {
     "data": {
      "text/plain": "tensor([[9, 3, 8, 8, 9, 4, 8, 6, 3, 7, 1, 2, 0, 7, 9, 2, 4, 7, 7, 9],\n        [8, 8, 6, 7, 1, 3, 3, 4, 6, 4, 5, 5, 1, 4, 6, 5, 3, 0, 4, 1],\n        [6, 1, 4, 6, 7, 4, 9, 8, 9, 1, 7, 8, 7, 9, 6, 3, 5, 9, 7, 3],\n        [1, 3, 8, 3, 5, 5, 1, 1, 8, 1, 8, 1, 0, 8, 4, 7, 5, 7, 9, 9],\n        [8, 2, 3, 3, 5, 7, 2, 9, 6, 8, 1, 9, 4, 8, 9, 7, 1, 4, 1, 1],\n        [8, 0, 8, 1, 4, 6, 1, 8, 6, 8, 2, 4, 7, 9, 5, 8, 0, 8, 8, 3],\n        [8, 1, 6, 7, 6, 3, 3, 7, 0, 6, 4, 6, 7, 1, 7, 0, 5, 6, 7, 8],\n        [2, 8, 0, 2, 7, 6, 7, 2, 9, 2, 7, 3, 4, 0, 3, 1, 9, 8, 4, 0],\n        [6, 7, 7, 8, 9, 1, 9, 3, 5, 7, 5, 0, 8, 6, 3, 3, 4, 6, 5, 6],\n        [7, 9, 2, 7, 6, 3, 7, 0, 0, 5, 3, 4, 3, 4, 9, 8, 9, 7, 1, 3],\n        [1, 5, 0, 8, 3, 7, 3, 0, 8, 3, 0, 0, 7, 0, 8, 9, 8, 6, 5, 2],\n        [4, 6, 2, 5, 4, 0, 8, 9, 4, 2, 7, 0, 3, 0, 1, 5, 8, 7, 4, 7],\n        [5, 7, 4, 6, 3, 9, 1, 6, 6, 8, 6, 5, 7, 3, 8, 9, 3, 8, 9, 2],\n        [3, 5, 2, 6, 5, 8, 3, 1, 0, 5, 5, 8, 5, 2, 0, 7, 3, 4, 6, 8],\n        [7, 0, 6, 5, 2, 9, 0, 3, 7, 7, 0, 3, 8, 8, 7, 1, 6, 5, 3, 3],\n        [3, 3, 8, 6, 3, 8, 2, 6, 2, 3, 2, 0, 1, 5, 0, 4, 8, 0, 3, 0],\n        [1, 8, 8, 6, 0, 6, 9, 3, 2, 3, 6, 5, 6, 0, 6, 2, 5, 4, 0, 2],\n        [5, 9, 6, 3, 2, 7, 5, 0, 0, 9, 7, 6, 2, 3, 1, 9, 3, 6, 7, 5],\n        [2, 3, 3, 2, 6, 7, 6, 3, 3, 8, 1, 8, 9, 4, 1, 7, 5, 1, 7, 2],\n        [1, 3, 0, 6, 1, 6, 5, 0, 9, 0, 5, 6, 5, 2, 0, 7, 3, 7, 4, 1]])"
     },
     "execution_count": 30,
     "metadata": {},
     "output_type": "execute_result"
    }
   ],
   "source": [
    "x = 20\n",
    "tens = torch.randint(0, 10, (x,x))\n",
    "tens"
   ]
  },
  {
   "cell_type": "code",
   "execution_count": 31,
   "metadata": {
    "collapsed": false,
    "pycharm": {
     "name": "#%%\n"
    }
   },
   "outputs": [
    {
     "data": {
      "text/plain": "tensor([9, 8, 4, 3, 5, 6, 3, 2, 5, 5, 0, 0, 7, 2, 7, 4, 5, 6, 7, 1])"
     },
     "execution_count": 31,
     "metadata": {},
     "output_type": "execute_result"
    }
   ],
   "source": [
    "#главная диагональ\n",
    "y = torch.arange(0, x)\n",
    "main = tens[y, y]\n",
    "main"
   ]
  },
  {
   "cell_type": "code",
   "execution_count": 32,
   "metadata": {
    "pycharm": {
     "name": "#%%\n"
    }
   },
   "outputs": [
    {
     "data": {
      "text/plain": "tensor([3, 6, 6, 5, 7, 1, 7, 9, 7, 3, 0, 3, 3, 0, 1, 8, 4, 7, 2])"
     },
     "execution_count": 32,
     "metadata": {},
     "output_type": "execute_result"
    }
   ],
   "source": [
    "# диагональ выше основной\n",
    "other = tens[y[:-1], y[1:]]\n",
    "other"
   ]
  },
  {
   "cell_type": "markdown",
   "metadata": {
    "id": "6M1lkfLp1RDJ",
    "pycharm": {
     "name": "#%% md\n"
    }
   },
   "source": [
    "1.3.9 Задать два двухмерных тензора `ar1` и `ar2` размерности (5, 10), состоящих из случайных целых чисел в пределах от 0 до 10. Удвоить все значения `ar1`, которые совпадают со значениями `ar2`, расположенными на аналогичных позициях."
   ]
  },
  {
   "cell_type": "code",
   "execution_count": 33,
   "metadata": {
    "collapsed": false,
    "pycharm": {
     "name": "#%%\n"
    }
   },
   "outputs": [],
   "source": [
    "ar1, ar2 = torch.randint(0, 10, (2, 5, 10))"
   ]
  },
  {
   "cell_type": "code",
   "execution_count": 34,
   "outputs": [
    {
     "data": {
      "text/plain": "tensor([[6, 6, 5, 8, 2, 2, 4, 6, 7, 9],\n        [7, 8, 9, 1, 6, 3, 8, 4, 1, 1],\n        [5, 9, 8, 6, 8, 6, 4, 0, 3, 6],\n        [0, 5, 3, 3, 8, 7, 2, 7, 1, 2],\n        [6, 2, 6, 3, 3, 3, 3, 2, 4, 1]])"
     },
     "execution_count": 34,
     "metadata": {},
     "output_type": "execute_result"
    }
   ],
   "source": [
    "ar1"
   ],
   "metadata": {
    "collapsed": false,
    "pycharm": {
     "name": "#%%\n"
    }
   }
  },
  {
   "cell_type": "code",
   "execution_count": 35,
   "outputs": [
    {
     "data": {
      "text/plain": "tensor([[5, 0, 1, 3, 2, 8, 4, 8, 6, 6],\n        [9, 7, 9, 1, 5, 3, 5, 2, 5, 6],\n        [4, 3, 3, 9, 9, 5, 9, 0, 8, 7],\n        [6, 3, 9, 7, 4, 6, 0, 5, 8, 0],\n        [6, 8, 6, 1, 9, 2, 1, 7, 1, 8]])"
     },
     "execution_count": 35,
     "metadata": {},
     "output_type": "execute_result"
    }
   ],
   "source": [
    "ar2"
   ],
   "metadata": {
    "collapsed": false,
    "pycharm": {
     "name": "#%%\n"
    }
   }
  },
  {
   "cell_type": "code",
   "execution_count": 36,
   "outputs": [
    {
     "data": {
      "text/plain": "tensor([[ 6,  6,  5,  8,  4,  2,  8,  6,  7,  9],\n        [ 7,  8, 18,  2,  6,  6,  8,  4,  1,  1],\n        [ 5,  9,  8,  6,  8,  6,  4,  0,  3,  6],\n        [ 0,  5,  3,  3,  8,  7,  2,  7,  1,  2],\n        [12,  2, 12,  3,  3,  3,  3,  2,  4,  1]])"
     },
     "execution_count": 36,
     "metadata": {},
     "output_type": "execute_result"
    }
   ],
   "source": [
    "ar1[ar1==ar2] *= 2\n",
    "ar1"
   ],
   "metadata": {
    "collapsed": false,
    "pycharm": {
     "name": "#%%\n"
    }
   }
  },
  {
   "cell_type": "markdown",
   "metadata": {
    "id": "Qe2oVr4p1RDJ",
    "pycharm": {
     "name": "#%% md\n"
    }
   },
   "source": [
    "1.3.10 Заданы три двухмерных тензора `ar1`, `ar2` и `ar3` размерности (4, 7), состоящие из случайных целых чисел в пределах от 0 до 10. Обнулить все элементы `ar1`, которые больше соответствующих (находящихся в соответствующих позициях) элементов `ar2` и меньше соответствующих элементов `ar3`."
   ]
  },
  {
   "cell_type": "code",
   "execution_count": 37,
   "metadata": {
    "collapsed": false,
    "pycharm": {
     "name": "#%%\n"
    }
   },
   "outputs": [
    {
     "data": {
      "text/plain": "tensor([[6, 0, 8, 3, 0, 9, 3],\n        [5, 7, 6, 0, 5, 2, 3],\n        [1, 1, 5, 3, 8, 9, 7],\n        [4, 5, 4, 0, 4, 4, 6]])"
     },
     "execution_count": 37,
     "metadata": {},
     "output_type": "execute_result"
    }
   ],
   "source": [
    "ar1, ar2, ar3 = torch.randint(0, 10, (3, 4, 7))\n",
    "ar1[(ar1 > ar2) & (ar1 < ar3)] = 0\n",
    "ar1"
   ]
  },
  {
   "cell_type": "markdown",
   "metadata": {
    "id": "BTcRVeYh1RDK",
    "pycharm": {
     "name": "#%% md\n"
    }
   },
   "source": [
    "1.3.11 Задан двумерный тензор `ar1` размерности (20, 5), состоящий из случайных целых чисел в пределах от 0 до 20. Определить, в каких столбцах не менее 5 раз встречается значение, максимальное по своей строке."
   ]
  },
  {
   "cell_type": "code",
   "execution_count": 38,
   "metadata": {
    "collapsed": false,
    "pycharm": {
     "name": "#%%\n"
    }
   },
   "outputs": [],
   "source": [
    "ar1 = torch.randint(0, 20, (20, 5))"
   ]
  },
  {
   "cell_type": "code",
   "execution_count": 39,
   "outputs": [
    {
     "data": {
      "text/plain": "(tensor([0, 1, 2, 3, 4]), tensor([3, 5, 1, 4, 7]))"
     },
     "execution_count": 39,
     "metadata": {},
     "output_type": "execute_result"
    }
   ],
   "source": [
    "columns, num = ar1.max(dim=1)[1].unique(return_counts=True)\n",
    "columns, num"
   ],
   "metadata": {
    "collapsed": false,
    "pycharm": {
     "name": "#%%\n"
    }
   }
  },
  {
   "cell_type": "code",
   "execution_count": 40,
   "metadata": {
    "collapsed": false,
    "pycharm": {
     "name": "#%%\n"
    }
   },
   "outputs": [
    {
     "data": {
      "text/plain": "tensor([1, 4])"
     },
     "execution_count": 40,
     "metadata": {},
     "output_type": "execute_result"
    }
   ],
   "source": [
    "tens = columns[num >= 5]\n",
    "tens"
   ]
  },
  {
   "cell_type": "markdown",
   "metadata": {
    "id": "ZeYlNWNE1RDK",
    "pycharm": {
     "name": "#%% md\n"
    }
   },
   "source": [
    "1.3.12 Задан двумерный тензор `ar1` размерности (4, 7), состоящий из случайных  чисел в пределах от 0 до 1. Обнулить все значения в массиве, расположенные строго правее и ниже максимального элемента массива."
   ]
  },
  {
   "cell_type": "code",
   "execution_count": 41,
   "metadata": {
    "collapsed": false,
    "pycharm": {
     "name": "#%%\n"
    }
   },
   "outputs": [
    {
     "name": "stderr",
     "output_type": "stream",
     "text": [
      "C:\\Users\\Ace\\AppData\\Local\\Temp\\ipykernel_20148\\1816487271.py:4: UserWarning: __floordiv__ is deprecated, and its behavior will change in a future version of pytorch. It currently rounds toward 0 (like the 'trunc' function NOT 'floor'). This results in incorrect rounding for negative values. To keep the current behavior, use torch.div(a, b, rounding_mode='trunc'), or for actual floor division, use torch.div(a, b, rounding_mode='floor').\n",
      "  i, j = maxi // m, maxi % m\n"
     ]
    }
   ],
   "source": [
    "n, m = 4, 7\n",
    "ar1 = torch.rand((n, m))\n",
    "maxi = ar1.argmax()\n",
    "i, j = maxi // m, maxi % m\n",
    "ar1[i+1:,j]   = 0\n",
    "ar1 [i, j+1:] = 0"
   ]
  },
  {
   "cell_type": "markdown",
   "metadata": {
    "id": "pYxX90B11RDL",
    "pycharm": {
     "name": "#%% md\n"
    }
   },
   "source": [
    "1.3.13 Построить \"one-hot encoding\" для одномерного тензора, содержащего целые числа (длина вектора заранее неизвестна, набор значений заранее неизвестен, при этом в итоговой матрице должны присутствовать столбцы для всех натуральных чисел вплоть до максимального встречающегося в исходном массиве).\n",
    "\n",
    "Пример:\n",
    "\n",
    "для тензора `torch.tensor([2, 3, 2, 2, 2, 1])`.\n",
    "\n",
    "Ожидается результат:\n",
    "\n",
    "```python\n",
    "tensor([[0., 1., 0.],\n",
    "        [0., 0., 1.],\n",
    "        [0., 1., 0.],\n",
    "        [0., 1., 0.],\n",
    "        [0., 1., 0.],\n",
    "        [1., 0., 0.]])\n",
    "```"
   ]
  },
  {
   "cell_type": "code",
   "execution_count": 42,
   "metadata": {
    "collapsed": false,
    "pycharm": {
     "name": "#%%\n"
    }
   },
   "outputs": [
    {
     "data": {
      "text/plain": "tensor([[0., 1., 0.],\n        [0., 0., 1.],\n        [0., 1., 0.],\n        [0., 1., 0.],\n        [0., 1., 0.],\n        [1., 0., 0.]])"
     },
     "execution_count": 42,
     "metadata": {},
     "output_type": "execute_result"
    }
   ],
   "source": [
    "tens = torch.tensor([2, 3, 2, 2, 2, 1])\n",
    "x = tens.max()\n",
    "ar = torch.eye(x)\n",
    "ar = ar[tens-1]\n",
    "ar"
   ]
  },
  {
   "cell_type": "markdown",
   "metadata": {
    "id": "GYU8DmNTDLN8",
    "pycharm": {
     "name": "#%% md\n"
    }
   },
   "source": [
    "1.3.14 Создать тензор `arr` из 20 случайных целых чисел от 0 до 100. Найти самое частое значение в тензоре. \n",
    "Найти индексы в тензоре, соответствующие самому частому значению. Проверить, как работет алгоритм при двух значениях, имеющих наибольшую встречаемость, предложить приемлемое поведение алгоритма для этого случая."
   ]
  },
  {
   "cell_type": "code",
   "execution_count": 43,
   "metadata": {
    "collapsed": false,
    "pycharm": {
     "name": "#%%\n"
    }
   },
   "outputs": [
    {
     "data": {
      "text/plain": "tensor([ 5, 97, 91, 20, 34, 51, 33, 25, 78, 14, 74, 99, 84,  1, 33, 64, 59, 34,\n        19,  9])"
     },
     "execution_count": 43,
     "metadata": {},
     "output_type": "execute_result"
    }
   ],
   "source": [
    "arr = torch.randint(0, 100, (20,))\n",
    "arr"
   ]
  },
  {
   "cell_type": "code",
   "execution_count": 44,
   "metadata": {
    "collapsed": false,
    "pycharm": {
     "name": "#%%\n"
    }
   },
   "outputs": [
    {
     "data": {
      "text/plain": "(tensor([33, 34]), tensor([ 4,  6, 14, 17]))"
     },
     "execution_count": 44,
     "metadata": {},
     "output_type": "execute_result"
    }
   ],
   "source": [
    "x, num = arr.unique(return_counts=True)\n",
    "freq = num.max()\n",
    "freq_num = x[num == freq]\n",
    "indexes = torch.argwhere(torch.isin(arr, freq_num)).reshape(-1)\n",
    "freq_num, indexes"
   ]
  },
  {
   "cell_type": "markdown",
   "metadata": {
    "id": "UenAEfEG1RDN",
    "pycharm": {
     "name": "#%% md\n"
    }
   },
   "source": [
    "## 1.4 Математические задачи"
   ]
  },
  {
   "cell_type": "markdown",
   "metadata": {
    "id": "6weDrqJR1RDN",
    "pycharm": {
     "name": "#%% md\n"
    }
   },
   "source": [
    "1.4.1 Приблизительно (с погрешностью порядка 1%) рассчитать на какой части интервала от 0 до 10 значение функции x * sin(x) больше 0.5."
   ]
  },
  {
   "cell_type": "code",
   "execution_count": 45,
   "metadata": {
    "collapsed": false,
    "pycharm": {
     "name": "#%%\n"
    }
   },
   "outputs": [
    {
     "data": {
      "text/plain": "0.5230000019073486"
     },
     "execution_count": 45,
     "metadata": {},
     "output_type": "execute_result"
    }
   ],
   "source": [
    "n = 1000\n",
    "x = torch.linspace(0, 10, n)\n",
    "y = x * x.sin()\n",
    "((y > 0.5).sum() / n).item()"
   ]
  },
  {
   "cell_type": "markdown",
   "metadata": {
    "id": "B9xAv8TR1RDN",
    "pycharm": {
     "name": "#%% md\n"
    }
   },
   "source": [
    "1.4.2 Найти все простые числа в пределах ста. (Для решения предлагается использовать Решето Эратосфена) Использовать не более 1 цикла (желательно)."
   ]
  },
  {
   "cell_type": "code",
   "execution_count": 46,
   "metadata": {
    "collapsed": false,
    "pycharm": {
     "name": "#%%\n"
    }
   },
   "outputs": [],
   "source": [
    "n = 100\n",
    "tens = torch.arange(0, n + 1)"
   ]
  },
  {
   "cell_type": "code",
   "execution_count": 47,
   "outputs": [],
   "source": [
    "i = 2\n",
    "while i * i < n:\n",
    "    if tens[i] != 0:\n",
    "        tens[i+i::i] = 0\n",
    "    i += 1"
   ],
   "metadata": {
    "collapsed": false,
    "pycharm": {
     "name": "#%%\n"
    }
   }
  },
  {
   "cell_type": "code",
   "execution_count": 48,
   "outputs": [
    {
     "data": {
      "text/plain": "tensor([ 1,  2,  3,  5,  7, 11, 13, 17, 19, 23, 29, 31, 37, 41, 43, 47, 53, 59,\n        61, 67, 71, 73, 79, 83, 89, 97])"
     },
     "execution_count": 48,
     "metadata": {},
     "output_type": "execute_result"
    }
   ],
   "source": [
    "tens[tens != 0]"
   ],
   "metadata": {
    "collapsed": false,
    "pycharm": {
     "name": "#%%\n"
    }
   }
  },
  {
   "cell_type": "markdown",
   "metadata": {
    "id": "AHupFoTR1RDN",
    "pycharm": {
     "name": "#%% md\n"
    }
   },
   "source": [
    "1.4.3 Найти евклидово расстояние между двумя одномерными тензорами одинаковой размерности, не используя готовые решения из библиотек."
   ]
  },
  {
   "cell_type": "code",
   "execution_count": 49,
   "metadata": {
    "collapsed": false,
    "pycharm": {
     "name": "#%%\n"
    }
   },
   "outputs": [
    {
     "data": {
      "text/plain": "tensor([[9., 4., 4., 5., 4.],\n        [5., 0., 3., 5., 9.]])"
     },
     "execution_count": 49,
     "metadata": {},
     "output_type": "execute_result"
    }
   ],
   "source": [
    "a = torch.randint(0, 10, (2,5), dtype=torch.float)\n",
    "a"
   ]
  },
  {
   "cell_type": "code",
   "execution_count": 50,
   "outputs": [
    {
     "data": {
      "text/plain": "tensor([[1., 1., 9., 8., 1.],\n        [4., 4., 1., 0., 6.]])"
     },
     "execution_count": 50,
     "metadata": {},
     "output_type": "execute_result"
    }
   ],
   "source": [
    "b = torch.randint(0, 10, (2,5), dtype=torch.float)\n",
    "b"
   ],
   "metadata": {
    "collapsed": false,
    "pycharm": {
     "name": "#%%\n"
    }
   }
  },
  {
   "cell_type": "code",
   "execution_count": 51,
   "metadata": {
    "collapsed": false,
    "pycharm": {
     "name": "#%%\n"
    }
   },
   "outputs": [
    {
     "data": {
      "text/plain": "tensor(13.0767)"
     },
     "execution_count": 51,
     "metadata": {},
     "output_type": "execute_result"
    }
   ],
   "source": [
    "tens = ((b - a)**2).sum().sqrt()\n",
    "tens"
   ]
  },
  {
   "cell_type": "markdown",
   "metadata": {
    "id": "j-ZvjWDKDVMQ",
    "pycharm": {
     "name": "#%% md\n"
    }
   },
   "source": [
    "1.4.4 Создать двумерный тензор 20 на 3, содержащий случайные целые числа от 0 до 100. \n",
    "Интерпретируя тензор как 20 векторов из 3х компонент, отсортировать его по длине векторов."
   ]
  },
  {
   "cell_type": "code",
   "execution_count": 52,
   "metadata": {
    "collapsed": false,
    "pycharm": {
     "name": "#%%\n"
    }
   },
   "outputs": [
    {
     "data": {
      "text/plain": "tensor([[72., 39.,  3.],\n        [ 1., 87., 51.],\n        [ 3., 62., 10.],\n        [44., 37., 25.],\n        [95., 22., 53.],\n        [74., 58., 26.]])"
     },
     "execution_count": 52,
     "metadata": {},
     "output_type": "execute_result"
    }
   ],
   "source": [
    "tens = torch.randint(0, 100, (20, 3), dtype=torch.float)\n",
    "tens = tens[torch.linalg.norm(ar, dim=1).argsort(descending=False)]\n",
    "tens"
   ]
  },
  {
   "cell_type": "markdown",
   "metadata": {
    "id": "IkBRFTKa1RDO",
    "pycharm": {
     "name": "#%% md\n"
    }
   },
   "source": [
    "1.4.5 Найти \"локальные максимумы\" в одномерном тензоре (т.е. значения, большие предыдущего и последующего) `torch.tensor([1, 3, 7, 1, 2, 6, 0, 1])` и вывести их индексы."
   ]
  },
  {
   "cell_type": "code",
   "execution_count": 53,
   "metadata": {
    "collapsed": false,
    "pycharm": {
     "name": "#%%\n"
    }
   },
   "outputs": [
    {
     "data": {
      "text/plain": "tensor([7, 6])"
     },
     "execution_count": 53,
     "metadata": {},
     "output_type": "execute_result"
    }
   ],
   "source": [
    "tens = torch.tensor([1, 3, 7, 1, 2, 6, 0, 1])\n",
    "maxi = torch.cat([torch.tensor([False]), tens[1:] > tens[:-1]]) & torch.cat([tens[:-1] > tens[1:], torch.tensor([False])])\n",
    "tens[maxi]"
   ]
  },
  {
   "cell_type": "code",
   "execution_count": 54,
   "outputs": [
    {
     "data": {
      "text/plain": "tensor([2, 5])"
     },
     "execution_count": 54,
     "metadata": {},
     "output_type": "execute_result"
    }
   ],
   "source": [
    "torch.argwhere(maxi).reshape(-1)"
   ],
   "metadata": {
    "collapsed": false,
    "pycharm": {
     "name": "#%%\n"
    }
   }
  },
  {
   "cell_type": "markdown",
   "metadata": {
    "id": "VXD58rlc1RDP",
    "pycharm": {
     "name": "#%% md\n"
    }
   },
   "source": [
    "1.4.6 Задан произвольный массив numpy (например массив из 100 случайных числе от 0 до 1). Необходимо найти в нем число наиболее близкое к заданному."
   ]
  },
  {
   "cell_type": "code",
   "execution_count": 55,
   "metadata": {
    "collapsed": false,
    "pycharm": {
     "name": "#%%\n"
    }
   },
   "outputs": [
    {
     "data": {
      "text/plain": "tensor([0.4311, 0.1444, 0.5856, 0.3424, 0.0528, 0.7611, 0.1014, 0.3387, 0.1905,\n        0.3324])"
     },
     "execution_count": 55,
     "metadata": {},
     "output_type": "execute_result"
    }
   ],
   "source": [
    "n = 10\n",
    "tens = torch.rand(n)\n",
    "tens"
   ]
  },
  {
   "cell_type": "code",
   "execution_count": 56,
   "metadata": {
    "collapsed": false,
    "pycharm": {
     "name": "#%%\n"
    }
   },
   "outputs": [
    {
     "data": {
      "text/plain": "0.43112123012542725"
     },
     "execution_count": 56,
     "metadata": {},
     "output_type": "execute_result"
    }
   ],
   "source": [
    "a = 0.5\n",
    "tens[(tens - a).abs().argmin()].item()"
   ]
  },
  {
   "cell_type": "markdown",
   "metadata": {
    "id": "81F_B2ij1RDP",
    "pycharm": {
     "name": "#%% md\n"
    }
   },
   "source": [
    "1.4.7 Решить матричное уравнение `A*X*B=-C` - найти матрицу X. Где `A = [[-1, 2, 4], [-3, 1, 2], [-3, 0, 1]]`, `B=[[3, -1], [2, 1]]`, `C=[[7, 21], [11, 8], [8, 4]]`."
   ]
  },
  {
   "cell_type": "code",
   "execution_count": 57,
   "metadata": {
    "collapsed": false,
    "pycharm": {
     "name": "#%%\n"
    }
   },
   "outputs": [],
   "source": [
    "A = torch.tensor([[-1, 2, 4], [-3, 1, 2], [-3, 0, 1]], dtype=torch.float)\n",
    "B = torch.tensor([[3, -1], [2, 1]], dtype=torch.float)\n",
    "C = torch.tensor([[7, 21], [11, 8], [8, 4]], dtype=torch.float)"
   ]
  },
  {
   "cell_type": "code",
   "execution_count": 58,
   "outputs": [
    {
     "data": {
      "text/plain": "tensor([[ 1.0000e+00,  1.1921e-07],\n        [-2.0000e+00,  1.0000e+00],\n        [ 3.0000e+00, -4.0000e+00]])"
     },
     "execution_count": 58,
     "metadata": {},
     "output_type": "execute_result"
    }
   ],
   "source": [
    "X = A.inverse() @ -C @ B.inverse()\n",
    "X"
   ],
   "metadata": {
    "collapsed": false,
    "pycharm": {
     "name": "#%%\n"
    }
   }
  },
  {
   "cell_type": "markdown",
   "metadata": {
    "id": "1P7O19bj1RDP",
    "pycharm": {
     "name": "#%% md\n"
    }
   },
   "source": [
    "1.4.8 Проверить, является ли система векторов a1 = (3; −3; 0; 7),\n",
    "a2 = (2; 2; 4; 7), a3 = (1; 2; 3; 4), a4 = (5; −4; 1; 3) линейно зависимой?"
   ]
  },
  {
   "cell_type": "code",
   "execution_count": 59,
   "metadata": {
    "collapsed": false,
    "pycharm": {
     "name": "#%%\n"
    }
   },
   "outputs": [
    {
     "data": {
      "text/plain": "True"
     },
     "execution_count": 59,
     "metadata": {},
     "output_type": "execute_result"
    }
   ],
   "source": [
    "a1 = [3, -3, 0, 7]\n",
    "a2 = [2, 2, 4, 7]\n",
    "a3 = [1, 2, 3, 4]\n",
    "a4 = [5, -4, 1, 3]\n",
    "\n",
    "tens = torch.tensor([a1, a2, a3, a4], dtype=torch.float)\n",
    "(tens.det().abs() < 2e-5).item()"
   ]
  },
  {
   "cell_type": "markdown",
   "metadata": {
    "id": "Jg_bzMVS1RDQ",
    "pycharm": {
     "name": "#%% md\n"
    }
   },
   "source": [
    "1.4.9 Сгенирировать тензор из 200 случайных целых чисел, нормально распрделенных cо стандартным отклонением $\\sigma = 10$ и матожиданием $\\mu = 0$. Построить тензор гистограммы с 20 бинами."
   ]
  },
  {
   "cell_type": "code",
   "execution_count": 60,
   "metadata": {
    "collapsed": false,
    "pycharm": {
     "name": "#%%\n"
    }
   },
   "outputs": [],
   "source": [
    "import matplotlib.pyplot as plt"
   ]
  },
  {
   "cell_type": "code",
   "execution_count": 61,
   "outputs": [
    {
     "data": {
      "text/plain": "<BarContainer object of 20 artists>"
     },
     "execution_count": 61,
     "metadata": {},
     "output_type": "execute_result"
    },
    {
     "data": {
      "text/plain": "<Figure size 432x288 with 1 Axes>",
      "image/png": "[encoded data removed]"
     },
     "metadata": {
      "needs_background": "light"
     },
     "output_type": "display_data"
    }
   ],
   "source": [
    "samp = torch.distributions.Normal(0, 10)\n",
    "data = samp.sample((200,))\n",
    "bins = 20\n",
    "hist = torch.histc(data, bins)\n",
    "plt.bar(range(bins), hist)"
   ],
   "metadata": {
    "collapsed": false,
    "pycharm": {
     "name": "#%%\n"
    }
   }
  },
  {
   "cell_type": "code",
   "execution_count": 61,
   "outputs": [],
   "source": [],
   "metadata": {
    "collapsed": false,
    "pycharm": {
     "name": "#%%\n"
    }
   }
  }
 ],
 "metadata": {
  "colab": {
   "name": "01_tensor_v1_blank.ipynb",
   "provenance": [],
   "toc_visible": true
  },
  "kernelspec": {
   "display_name": "Python 3.9.12 ('venv': venv)",
   "language": "python",
   "name": "python3"
  },
  "language_info": {
   "codemirror_mode": {
    "name": "ipython",
    "version": 3
   },
   "file_extension": ".py",
   "mimetype": "text/x-python",
   "name": "python",
   "nbconvert_exporter": "python",
   "pygments_lexer": "ipython3",
   "version": "3.9.12"
  },
  "vscode": {
   "interpreter": {
    "hash": "c876911efdc004113c19aa2bbaad781e172e0ce4d8cf3315cbeaf7ff2a814729"
   }
  }
 },
 "nbformat": 4,
 "nbformat_minor": 1
}